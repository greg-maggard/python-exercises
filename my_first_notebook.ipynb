{
 "cells": [
  {
   "cell_type": "code",
   "execution_count": 1,
   "id": "04244b3d",
   "metadata": {},
   "outputs": [
    {
     "name": "stdout",
     "output_type": "stream",
     "text": [
      "Hello, World!\n"
     ]
    }
   ],
   "source": [
    "print('Hello, World!')"
   ]
  },
  {
   "cell_type": "markdown",
   "id": "8c321f29",
   "metadata": {},
   "source": [
    "# Note on Running Cells:\n",
    "\n",
    "You can use cmd + return to run a cell."
   ]
  },
  {
   "cell_type": "code",
   "execution_count": 3,
   "id": "d38cc642",
   "metadata": {},
   "outputs": [],
   "source": [
    "greeting = \"Welcome to Codeup!\""
   ]
  },
  {
   "cell_type": "markdown",
   "id": "59fe9354",
   "metadata": {},
   "source": [
    "# Note on Creating New Cells:\n",
    "\n",
    "You can press \"B\" to create a new cell below your currently-selected cell.\n",
    "\n",
    "You can press \"A\" to create a new cell above your currently-selected cell."
   ]
  },
  {
   "cell_type": "code",
   "execution_count": 4,
   "id": "78c18988",
   "metadata": {},
   "outputs": [
    {
     "name": "stdout",
     "output_type": "stream",
     "text": [
      "Hello, World!\n",
      "Welcome to Codeup!\n"
     ]
    }
   ],
   "source": [
    "print('Hello, World!')\n",
    "print(greeting)"
   ]
  },
  {
   "cell_type": "markdown",
   "id": "b7cc0e67",
   "metadata": {},
   "source": [
    "# Note on Changing Cell Type:\n",
    "\n",
    "You can press 'escape' and then 'M' to change the cell type to Markdown.\n",
    "\n",
    "You can press 'escape' and then 'Y' to change the ceel type to code. "
   ]
  }
 ],
 "metadata": {
  "kernelspec": {
   "display_name": "Python 3 (ipykernel)",
   "language": "python",
   "name": "python3"
  },
  "language_info": {
   "codemirror_mode": {
    "name": "ipython",
    "version": 3
   },
   "file_extension": ".py",
   "mimetype": "text/x-python",
   "name": "python",
   "nbconvert_exporter": "python",
   "pygments_lexer": "ipython3",
   "version": "3.9.7"
  }
 },
 "nbformat": 4,
 "nbformat_minor": 5
}
