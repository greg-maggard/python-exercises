{
 "cells": [
  {
   "cell_type": "markdown",
   "id": "598dd50c",
   "metadata": {},
   "source": [
    "# 1. Conditional Basics"
   ]
  },
  {
   "cell_type": "markdown",
   "id": "b27e3c68",
   "metadata": {},
   "source": [
    " ## a. Prompt the user for a day of the week, print out whether the day is Monday or not."
   ]
  },
  {
   "cell_type": "code",
   "execution_count": null,
   "id": "a6c55349",
   "metadata": {},
   "outputs": [],
   "source": [
    "if 'Monday' == input(\"Please enter the day of the week: \"):\n",
    "    print(\"Today is Monday.\")\n",
    "else:\n",
    "    print(\"Today is not Monday.\")"
   ]
  },
  {
   "cell_type": "markdown",
   "id": "9af44adc",
   "metadata": {},
   "source": [
    "## b. Prompt the user for a day of the week, then print out whether the day is a weekday or a weekend."
   ]
  },
  {
   "cell_type": "code",
   "execution_count": null,
   "id": "7f5e0299",
   "metadata": {},
   "outputs": [],
   "source": [
    "day_of_the_week = input(\"Please enter the day of the week: \")\n",
    "\n",
    "if day_of_the_week in ['Monday', 'Tuesday', 'Wednesday', 'Thursday', 'Friday']:\n",
    "    print(\"Today is a weekday.\")\n",
    "elif day_of_the_week in ['Saturday', 'Sunday']:\n",
    "    print(\"Today is a weekend day!\")\n",
    "else:\n",
    "    print(\"The day entered appears to be invalid.\")"
   ]
  },
  {
   "cell_type": "markdown",
   "id": "1f2880df",
   "metadata": {},
   "source": [
    "## c. create variables and make up values for:\n",
    "- the number of hours worked in one week\n",
    "- the hourly rate\n",
    "- how much the week's paycheck will be\n",
    "- write the python code that calculates the weekly paycheck. You get paid time and a half if you work more than 40 hours"
   ]
  },
  {
   "cell_type": "code",
   "execution_count": null,
   "id": "32b65848",
   "metadata": {},
   "outputs": [],
   "source": [
    "hours_worked = float(input(\"Please enter the number of hours worked:\"))\n",
    "hourly_rate = 29.04\n",
    "\n",
    "def paycheck_calculator(hours_worked, hourly_rate):\n",
    "    if (hours_worked <= 40 ):\n",
    "        paycheck_amount = (hours_worked * hourly_rate)\n",
    "    elif hours_worked > 40:\n",
    "            paycheck_amount = ((40 * hourly_rate) + ((hours_worked - 40) * (hourly_rate * 1.5)))\n",
    "    return str(\"Your pre-tax check will be \" + str(round(paycheck_amount, 2)) + \".\")\n",
    "\n",
    "paycheck_calculator(hours_worked, hourly_rate)"
   ]
  },
  {
   "cell_type": "markdown",
   "id": "5897cd8d",
   "metadata": {},
   "source": [
    "# 2. Loop Basics"
   ]
  },
  {
   "cell_type": "markdown",
   "id": "f7fdc13d",
   "metadata": {},
   "source": [
    "## a. While"
   ]
  },
  {
   "cell_type": "markdown",
   "id": "f4eb4d17",
   "metadata": {},
   "source": [
    "### Create an integer variable i with a value of 5.\n",
    "### Create a while loop that runs so long as i is less than or equal to 15\n",
    "### Each loop iteration, output the current value of i, then increment i by one."
   ]
  },
  {
   "cell_type": "code",
   "execution_count": null,
   "id": "a7904dd3",
   "metadata": {},
   "outputs": [],
   "source": [
    "i = 5\n",
    "\n",
    "while i <= 15:\n",
    "    print(i)\n",
    "    i += 1"
   ]
  },
  {
   "cell_type": "markdown",
   "id": "b3e1df4b",
   "metadata": {},
   "source": [
    "### b. Create a while loop that will count by 2's starting with 0 and ending at 100. Follow each number with a new line."
   ]
  },
  {
   "cell_type": "code",
   "execution_count": null,
   "id": "81c61b72",
   "metadata": {
    "scrolled": true
   },
   "outputs": [],
   "source": [
    "i = 0 \n",
    "\n",
    "while i < 101:\n",
    "    print(i)\n",
    "    i += 2"
   ]
  },
  {
   "cell_type": "markdown",
   "id": "9405e36a",
   "metadata": {},
   "source": [
    "### Alter your loop to count backwards by 5's from 100 to -10."
   ]
  },
  {
   "cell_type": "code",
   "execution_count": null,
   "id": "6185b32c",
   "metadata": {},
   "outputs": [],
   "source": [
    "i = 100 \n",
    "\n",
    "while i > -11:\n",
    "    print(i)\n",
    "    i -= 5"
   ]
  },
  {
   "cell_type": "markdown",
   "id": "166b7909",
   "metadata": {},
   "source": [
    "### Create a while loop that starts at 2, and displays the number squared on each line while the number is less than 1,000,000."
   ]
  },
  {
   "cell_type": "code",
   "execution_count": null,
   "id": "3a467777",
   "metadata": {},
   "outputs": [],
   "source": [
    "i = 2\n",
    "\n",
    "while i < 1000000:\n",
    "    print(i)\n",
    "    i = i ** 2"
   ]
  },
  {
   "cell_type": "markdown",
   "id": "962377d4",
   "metadata": {},
   "source": [
    "### Write a loop that uses print to create the output shown below.\n",
    "\n",
    "100\n",
    "95\n",
    "90\n",
    "85\n",
    "80\n",
    "75\n",
    "70\n",
    "65\n",
    "60\n",
    "55\n",
    "50\n",
    "45\n",
    "40\n",
    "35\n",
    "30\n",
    "25\n",
    "20\n",
    "15\n",
    "10\n",
    "5"
   ]
  },
  {
   "cell_type": "code",
   "execution_count": null,
   "id": "dea87a2a",
   "metadata": {},
   "outputs": [],
   "source": [
    "i = 100\n",
    "\n",
    "while i > 4:\n",
    "    print(i)\n",
    "    i -= 5"
   ]
  },
  {
   "cell_type": "markdown",
   "id": "d21ca860",
   "metadata": {},
   "source": [
    "## b. For Loops"
   ]
  },
  {
   "cell_type": "markdown",
   "id": "c6a545b3",
   "metadata": {},
   "source": [
    "### i. Write some code that prompts the user for a number, then shows a multiplication table up through 10 for that number."
   ]
  },
  {
   "cell_type": "code",
   "execution_count": null,
   "id": "e8abb8a5",
   "metadata": {},
   "outputs": [],
   "source": [
    "n = int(input(\"Please enter a number: \"))\n",
    "multiplier = 1\n",
    "\n",
    "while multiplier <= 10:\n",
    "    print(n * multiplier)\n",
    "    multiplier += 1"
   ]
  },
  {
   "cell_type": "markdown",
   "id": "7634cbcf",
   "metadata": {},
   "source": [
    "### Create a for loop that uses print to create the output shown below.\n",
    "\n",
    "1\n",
    "22\n",
    "333\n",
    "4444\n",
    "55555\n",
    "666666\n",
    "7777777\n",
    "88888888\n",
    "999999999"
   ]
  },
  {
   "cell_type": "code",
   "execution_count": null,
   "id": "973a3dcd",
   "metadata": {},
   "outputs": [],
   "source": [
    "i = 1 \n",
    "\n",
    "while i < 10:\n",
    "    print(str(i) * i)\n",
    "    i += 1"
   ]
  },
  {
   "cell_type": "markdown",
   "id": "ab2a1ef9",
   "metadata": {},
   "source": [
    "## c. Break and Continue"
   ]
  },
  {
   "cell_type": "markdown",
   "id": "93e15cb3",
   "metadata": {},
   "source": [
    "### Prompt the user for an odd number between 1 and 50. Use a loop and a break statement to continue prompting the user if they enter invalid input. (Hint: use the isdigit method on strings to determine this). Use a loop and the continue statement to output all the odd numbers between 1 and 50, except for the number the user entered."
   ]
  },
  {
   "cell_type": "markdown",
   "id": "7e6aaac0",
   "metadata": {},
   "source": [
    "if the number does not meet the criteria, prompt again\n",
    "\n",
    "if it does meet the criteria, print all odd numbers in that range\n",
    "\n",
    "^ Except for the number entered\n"
   ]
  },
  {
   "cell_type": "code",
   "execution_count": null,
   "id": "357f3e89",
   "metadata": {},
   "outputs": [],
   "source": [
    "user_input = int(input(\"Please enter an odd number between 1 and 50: \"))\n",
    "\n",
    "while user_input < 1 or user_input > 50 or user_input % 2 == 0:\n",
    "    print(\"This number does not appear to meet the criteria. Please try again: \")\n",
    "    user_input = int(input(\"Please enter an odd number between 1 and 50: \"))\n",
    "for i in range (1, 50):\n",
    "    if i % 2 != 0 and user_input != i:\n",
    "            print(i)"
   ]
  },
  {
   "cell_type": "markdown",
   "id": "477d663b",
   "metadata": {},
   "source": [
    "### d. The 'input' function can be used to prompt for input and use that input in your python code. Prompt the user to enter a positive number and write a loop that counts from 0 to that number. (Hints: first make sure that the value the user entered is a valid number, also note that the input function returns a string, so you'll need to convert this to a numeric type)."
   ]
  },
  {
   "cell_type": "code",
   "execution_count": null,
   "id": "ad7054d8",
   "metadata": {},
   "outputs": [],
   "source": [
    "user_input = int(input(\"Please enter a positive integer: \"))\n",
    "\n",
    "while user_input < 0:\n",
    "    print(\"This number does not appear to be a positive integer.\")\n",
    "    user_input = int(input(\"Please enter a positive integer: \"))\n",
    "for i in range(user_input + 1):\n",
    "        print(i)\n",
    "    "
   ]
  },
  {
   "cell_type": "markdown",
   "id": "b5be2218",
   "metadata": {},
   "source": [
    "### e. Write a program that prompts the user for a positive integer. Next write a loop that prints out the numbers from the number the user entered down to 1."
   ]
  },
  {
   "cell_type": "code",
   "execution_count": null,
   "id": "aaf3f53b",
   "metadata": {},
   "outputs": [],
   "source": [
    "user_input = int(input(\"Please enter a positive integer: \"))\n",
    "\n",
    "if user_input < 0:\n",
    "    print(\"This number does not appear to be a positive integer.\")\n",
    "    user_input = int(input(\"Please enter a positive integer: \"))\n",
    "elif user_input >= 0: \n",
    "    while user_input != 0:\n",
    "        print(user_input)\n",
    "        user_input -= 1"
   ]
  },
  {
   "cell_type": "markdown",
   "id": "0658d62c",
   "metadata": {},
   "source": [
    "# 3. Fizzbuzz\n",
    "\n",
    "## One of the most common interview questions for entry-level programmers is the FizzBuzz test. Developed by Imran Ghory, the test is designed to test basic looping and conditional logic skills.\n",
    "\n",
    "Write a program that prints the numbers from 1 to 100.\n",
    "For multiples of three print \"Fizz\" instead of the number\n",
    "For the multiples of five print \"Buzz\".\n",
    "For numbers which are multiples of both three and five print \"FizzBuzz\"."
   ]
  },
  {
   "cell_type": "markdown",
   "id": "9d0fce6d",
   "metadata": {},
   "source": [
    "## a. Write a program that prints the numbers from 1 to 100."
   ]
  },
  {
   "cell_type": "code",
   "execution_count": null,
   "id": "f3bb6246",
   "metadata": {},
   "outputs": [],
   "source": [
    "for i in range(100):\n",
    "    print (i + 1)"
   ]
  },
  {
   "cell_type": "markdown",
   "id": "664a9481",
   "metadata": {},
   "source": [
    "## b. For multiples of three print \"Fizz\" instead of the number."
   ]
  },
  {
   "cell_type": "code",
   "execution_count": null,
   "id": "4448352b",
   "metadata": {},
   "outputs": [],
   "source": [
    "for i in range(100):\n",
    "    if (i + 1) % 3 == 0:\n",
    "        print('Fizz')\n",
    "    else:\n",
    "        print (i + 1)"
   ]
  },
  {
   "cell_type": "markdown",
   "id": "a3b64db4",
   "metadata": {},
   "source": [
    "## c. For the multiples of five print \"Buzz\"."
   ]
  },
  {
   "cell_type": "code",
   "execution_count": null,
   "id": "77d72bfd",
   "metadata": {},
   "outputs": [],
   "source": [
    "for i in range(100):\n",
    "    if (i + 1) % 5 == 0:\n",
    "        print('Buzz')\n",
    "    else:\n",
    "        print (i + 1)"
   ]
  },
  {
   "cell_type": "markdown",
   "id": "fed259fa",
   "metadata": {},
   "source": [
    "## d. For numbers which are multiples of both three and five print \"FizzBuzz\"."
   ]
  },
  {
   "cell_type": "code",
   "execution_count": null,
   "id": "7e30ab27",
   "metadata": {},
   "outputs": [],
   "source": [
    "for i in range(100):\n",
    "    if (i + 1) % 3 == 0 and (i + 1) % 5 == 0:\n",
    "        print('FizzBuzz')\n",
    "    else:\n",
    "        print (i + 1)"
   ]
  },
  {
   "cell_type": "markdown",
   "id": "d26d12d3",
   "metadata": {},
   "source": [
    "# 4. Display a table of powers.\n",
    "\n",
    "Prompt the user to enter an integer.\n",
    "Display a table of squares and cubes from 1 to the value entered.\n",
    "Ask if the user wants to continue.\n",
    "Assume that the user will enter valid data.\n",
    "Only continue if the user agrees to."
   ]
  },
  {
   "cell_type": "code",
   "execution_count": 7,
   "id": "54143c55",
   "metadata": {},
   "outputs": [
    {
     "name": "stdout",
     "output_type": "stream",
     "text": [
      "Please enter an integer: 87\n",
      "Number\tSquare \tCube\n",
      "1\t1\t1\n",
      "2\t4\t8\n",
      "3\t9\t27\n",
      "4\t16\t64\n",
      "5\t25\t125\n",
      "6\t36\t216\n",
      "7\t49\t343\n",
      "8\t64\t512\n",
      "9\t81\t729\n",
      "10\t100\t1000\n",
      "11\t121\t1331\n",
      "12\t144\t1728\n",
      "13\t169\t2197\n",
      "14\t196\t2744\n",
      "15\t225\t3375\n",
      "16\t256\t4096\n",
      "17\t289\t4913\n",
      "18\t324\t5832\n",
      "19\t361\t6859\n",
      "20\t400\t8000\n",
      "21\t441\t9261\n",
      "22\t484\t10648\n",
      "23\t529\t12167\n",
      "24\t576\t13824\n",
      "25\t625\t15625\n",
      "26\t676\t17576\n",
      "27\t729\t19683\n",
      "28\t784\t21952\n",
      "29\t841\t24389\n",
      "30\t900\t27000\n",
      "31\t961\t29791\n",
      "32\t1024\t32768\n",
      "33\t1089\t35937\n",
      "34\t1156\t39304\n",
      "35\t1225\t42875\n",
      "36\t1296\t46656\n",
      "37\t1369\t50653\n",
      "38\t1444\t54872\n",
      "39\t1521\t59319\n",
      "40\t1600\t64000\n",
      "41\t1681\t68921\n",
      "42\t1764\t74088\n",
      "43\t1849\t79507\n",
      "44\t1936\t85184\n",
      "45\t2025\t91125\n",
      "46\t2116\t97336\n",
      "47\t2209\t103823\n",
      "48\t2304\t110592\n",
      "49\t2401\t117649\n",
      "50\t2500\t125000\n",
      "51\t2601\t132651\n",
      "52\t2704\t140608\n",
      "53\t2809\t148877\n",
      "54\t2916\t157464\n",
      "55\t3025\t166375\n",
      "56\t3136\t175616\n",
      "57\t3249\t185193\n",
      "58\t3364\t195112\n",
      "59\t3481\t205379\n",
      "60\t3600\t216000\n",
      "61\t3721\t226981\n",
      "62\t3844\t238328\n",
      "63\t3969\t250047\n",
      "64\t4096\t262144\n",
      "65\t4225\t274625\n",
      "66\t4356\t287496\n",
      "67\t4489\t300763\n",
      "68\t4624\t314432\n",
      "69\t4761\t328509\n",
      "70\t4900\t343000\n",
      "71\t5041\t357911\n",
      "72\t5184\t373248\n",
      "73\t5329\t389017\n",
      "74\t5476\t405224\n",
      "75\t5625\t421875\n",
      "76\t5776\t438976\n",
      "77\t5929\t456533\n",
      "78\t6084\t474552\n",
      "79\t6241\t493039\n",
      "80\t6400\t512000\n",
      "81\t6561\t531441\n",
      "82\t6724\t551368\n",
      "83\t6889\t571787\n",
      "84\t7056\t592704\n",
      "85\t7225\t614125\n",
      "86\t7396\t636056\n",
      "87\t7569\t658503\n"
     ]
    }
   ],
   "source": [
    "number = 0\n",
    "square = 0\n",
    "cube = 0\n",
    "\n",
    "number_input = int(input(\"Please enter an integer: \"))\n",
    "print('Number\\tSquare \\tCube')\n",
    "\n",
    "for number in range(1, (number_input + 1)):\n",
    "    square = number ** 2\n",
    "    cube = number ** 3\n",
    "    \n",
    "    print(f'{number}\\t{square}\\t{cube}')\n",
    "    \n",
    "    if number_input == number:\n",
    "        break"
   ]
  },
  {
   "cell_type": "markdown",
   "id": "b6982441",
   "metadata": {},
   "source": [
    "# 5. Convert given number grades into letter grades.\n",
    "\n",
    "Prompt the user for a numerical grade from 0 to 100.\n",
    "Display the corresponding letter grade.\n",
    "Prompt the user to continue.\n",
    "Assume that the user will enter valid integers for the grades.\n",
    "The application should only continue if the user agrees to.\n",
    "Grade Ranges:\n",
    "A : 100 - 88\n",
    "B : 87 - 80\n",
    "C : 79 - 67\n",
    "D : 66 - 60\n",
    "F : 59 - 0"
   ]
  },
  {
   "cell_type": "code",
   "execution_count": null,
   "id": "ce27d45e",
   "metadata": {},
   "outputs": [],
   "source": [
    "run_loop = True\n",
    "\n",
    "\n",
    "while run_loop == True:\n",
    "    grade_input = int(input(\"Please enter a grade: \"))\n",
    "    if grade_input >= 88:\n",
    "        print(\"Your letter grade is: A\")\n",
    "    elif grade_input >= 80 and grade_input <88:\n",
    "        print(\"Your letter grade is: B\")\n",
    "    elif grade_input >= 67 and grade_input < 80:\n",
    "        print(\"Your letter grade is: C\")\n",
    "    elif grade_input >= 60 and grade_input < 67:\n",
    "        print(\"Your letter grade is: D\")\n",
    "    elif grade_input < 59:\n",
    "        print(\"Your letter grade is: F\")\n",
    "    viewer_continue = input(\"Would you like to check another grade? \")\n",
    "    run_loop = (viewer_continue == 'Yes' or viewer_continue == 'yes')\n",
    "    \n",
    "# How do we handle things like \"application should only continue if the user agrees to?\""
   ]
  },
  {
   "cell_type": "markdown",
   "id": "80ccd9fa",
   "metadata": {},
   "source": [
    "# 6. Create a list of dictionaries where each dictionary represents a book that you have read. Each dictionary in the list should have the keys title, author, and genre. Loop through the list and print out information about each book."
   ]
  },
  {
   "cell_type": "code",
   "execution_count": 16,
   "id": "11082ef3",
   "metadata": {},
   "outputs": [
    {
     "name": "stdout",
     "output_type": "stream",
     "text": [
      "This book's information is listed as follows: \n",
      "The title is: Fahrenheit 451\n",
      "The author is: Ray Bradbury\n",
      "The genre is: Science Fiction\n",
      "\n",
      "\n",
      "This book's information is listed as follows: \n",
      "The title is: Incognito\n",
      "The author is: David Eagleman\n",
      "The genre is: Pyschology\n",
      "\n",
      "\n",
      "This book's information is listed as follows: \n",
      "The title is: The Silmarillion\n",
      "The author is: J.R.R. Tolkien\n",
      "The genre is: Fantasy\n",
      "\n",
      "\n"
     ]
    }
   ],
   "source": [
    "books = {\n",
    "    'book1': {'Name': 'Fahrenheit 451', 'Author': 'Ray Bradbury', 'Genre': 'Science Fiction'}, \n",
    "    'book2': {'Name': 'Incognito', 'Author': 'David Eagleman', 'Genre': 'Pyschology'},\n",
    "    'book3':{ 'Name':'The Silmarillion', 'Author': 'J.R.R. Tolkien', 'Genre': 'Fantasy'}\n",
    "}\n",
    "\n",
    "## I need to go through and figure out how to iterate through a dictionary.\n",
    "\n",
    "for book in books:\n",
    "    print(\"This book's information is listed as follows: \")\n",
    "    print('The title is: ' + books[book]['Name'])\n",
    "    print('The author is: ' + books[book]['Author'])\n",
    "    print('The genre is: ' + books[book]['Genre'])\n",
    "    print('\\n')\n",
    "    \n",
    "    "
   ]
  }
 ],
 "metadata": {
  "kernelspec": {
   "display_name": "Python 3 (ipykernel)",
   "language": "python",
   "name": "python3"
  },
  "language_info": {
   "codemirror_mode": {
    "name": "ipython",
    "version": 3
   },
   "file_extension": ".py",
   "mimetype": "text/x-python",
   "name": "python",
   "nbconvert_exporter": "python",
   "pygments_lexer": "ipython3",
   "version": "3.9.7"
  }
 },
 "nbformat": 4,
 "nbformat_minor": 5
}
