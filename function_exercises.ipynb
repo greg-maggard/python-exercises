{
 "cells": [
  {
   "cell_type": "markdown",
   "id": "099a51fe",
   "metadata": {},
   "source": [
    "## 1. Define a function named is_two. It should accept one input and return True if the passed input is either the number or the string 2, False otherwise."
   ]
  },
  {
   "cell_type": "code",
   "execution_count": 2,
   "id": "ac0c1d52",
   "metadata": {},
   "outputs": [
    {
     "name": "stdout",
     "output_type": "stream",
     "text": [
      "False\n"
     ]
    }
   ],
   "source": [
    "def is_two(number):\n",
    "    if number == 2 or number == 'Two':\n",
    "        return(True)\n",
    "    else: \n",
    "        return(False)\n",
    "\n",
    "print(is_two(3))"
   ]
  },
  {
   "cell_type": "markdown",
   "id": "308a7351",
   "metadata": {},
   "source": [
    "## 2. Define a function named is_vowel. It should return True if the passed string is a vowel, False otherwise.\n"
   ]
  },
  {
   "cell_type": "code",
   "execution_count": 3,
   "id": "dc1c0479",
   "metadata": {},
   "outputs": [
    {
     "name": "stdout",
     "output_type": "stream",
     "text": [
      "True\n"
     ]
    }
   ],
   "source": [
    "def is_vowel(letter):\n",
    "    if letter in ('a', 'e', 'i', 'o', 'u'):\n",
    "        return True\n",
    "    else:\n",
    "        return False\n",
    "\n",
    "print(is_vowel('a'))"
   ]
  },
  {
   "cell_type": "markdown",
   "id": "d0f9a560",
   "metadata": {},
   "source": [
    "## 3. Define a function named is_consonant. It should return True if the passed string is a consonant, False otherwise. Use your is_vowel function to accomplish this.\n",
    "    "
   ]
  },
  {
   "cell_type": "code",
   "execution_count": 4,
   "id": "7c8d88f9",
   "metadata": {},
   "outputs": [
    {
     "name": "stdout",
     "output_type": "stream",
     "text": [
      "True\n"
     ]
    }
   ],
   "source": [
    "def is_consonant(letter):\n",
    "    if letter in ('a', 'e', 'i', 'o', 'u'):\n",
    "        return False\n",
    "    else:\n",
    "        return True\n",
    "    \n",
    "print(is_consonant('b'))"
   ]
  },
  {
   "cell_type": "markdown",
   "id": "f69ccd5e",
   "metadata": {},
   "source": [
    "## # 4. Define a function that accepts a string that is a word. The function should capitalize the first letter of the word if the word starts with a consonant.\n"
   ]
  },
  {
   "cell_type": "code",
   "execution_count": 6,
   "id": "f0e69a09",
   "metadata": {},
   "outputs": [
    {
     "name": "stdout",
     "output_type": "stream",
     "text": [
      "Please enter a word starting with a consonant.\n"
     ]
    }
   ],
   "source": [
    "def capital_word(word):\n",
    "    first_letter = word[0]\n",
    "    if word[0] not in ['A', 'a', 'E', 'e', 'I', 'i', 'O', 'o', 'U', 'u']:\n",
    "        print(word[0])\n",
    "        return str(word).title()\n",
    "    else:\n",
    "        return \"Please enter a word starting with a consonant.\"\n",
    "\n",
    "print(capital_word('Axolotl'))"
   ]
  },
  {
   "cell_type": "code",
   "execution_count": null,
   "id": "a18c5571",
   "metadata": {},
   "outputs": [],
   "source": []
  }
 ],
 "metadata": {
  "kernelspec": {
   "display_name": "Python 3 (ipykernel)",
   "language": "python",
   "name": "python3"
  },
  "language_info": {
   "codemirror_mode": {
    "name": "ipython",
    "version": 3
   },
   "file_extension": ".py",
   "mimetype": "text/x-python",
   "name": "python",
   "nbconvert_exporter": "python",
   "pygments_lexer": "ipython3",
   "version": "3.9.7"
  }
 },
 "nbformat": 4,
 "nbformat_minor": 5
}
