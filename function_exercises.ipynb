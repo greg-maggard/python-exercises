{
 "cells": [
  {
   "cell_type": "markdown",
   "id": "02e9d564",
   "metadata": {},
   "source": [
    "### 1. Define a function named is_two. It should accept one input and return True if the passed input is either the number or the string 2, False otherwise."
   ]
  },
  {
   "cell_type": "code",
   "execution_count": 2,
   "id": "f1eb7054",
   "metadata": {},
   "outputs": [
    {
     "name": "stdout",
     "output_type": "stream",
     "text": [
      "False\n"
     ]
    }
   ],
   "source": [
    "def is_two(number):\n",
    "    if number == 2 or number == 'Two':\n",
    "        return(True)\n",
    "    else: \n",
    "        return(False)\n",
    "\n",
    "print(is_two(3))"
   ]
  },
  {
   "cell_type": "markdown",
   "id": "a4d2ef4b",
   "metadata": {},
   "source": [
    "### 2. Define a function named is_vowel. It should return True if the passed string is a vowel, False otherwise.\n"
   ]
  },
  {
   "cell_type": "code",
   "execution_count": 3,
   "id": "7ddc9005",
   "metadata": {},
   "outputs": [
    {
     "name": "stdout",
     "output_type": "stream",
     "text": [
      "True\n"
     ]
    }
   ],
   "source": [
    "def is_vowel(letter):\n",
    "    if letter in ('a', 'e', 'i', 'o', 'u'):\n",
    "        return True\n",
    "    else:\n",
    "        return False\n",
    "\n",
    "print(is_vowel('a'))"
   ]
  },
  {
   "cell_type": "markdown",
   "id": "f63f7252",
   "metadata": {},
   "source": [
    "### 3. Define a function named is_consonant. It should return True if the passed string is a consonant, False otherwise. Use your is_vowel function to accomplish this.\n",
    "    "
   ]
  },
  {
   "cell_type": "code",
   "execution_count": 4,
   "id": "ecba0f76",
   "metadata": {},
   "outputs": [
    {
     "name": "stdout",
     "output_type": "stream",
     "text": [
      "True\n"
     ]
    }
   ],
   "source": [
    "def is_consonant(letter):\n",
    "    if letter in ('a', 'e', 'i', 'o', 'u'):\n",
    "        return False\n",
    "    else:\n",
    "        return True\n",
    "    \n",
    "print(is_consonant('b'))"
   ]
  },
  {
   "cell_type": "markdown",
   "id": "d3ef6f63",
   "metadata": {},
   "source": [
    "### 4. Define a function that accepts a string that is a word. The function should capitalize the first letter of the word if the word starts with a consonant.\n"
   ]
  },
  {
   "cell_type": "code",
   "execution_count": 6,
   "id": "96663eac",
   "metadata": {},
   "outputs": [
    {
     "name": "stdout",
     "output_type": "stream",
     "text": [
      "Please enter a word starting with a consonant.\n"
     ]
    }
   ],
   "source": [
    "def capital_word(word):\n",
    "    first_letter = word[0]\n",
    "    if word[0] not in ['A', 'a', 'E', 'e', 'I', 'i', 'O', 'o', 'U', 'u']:\n",
    "        print(word[0])\n",
    "        return str(word).title()\n",
    "    else:\n",
    "        return \"Please enter a word starting with a consonant.\"\n",
    "\n",
    "print(capital_word('Axolotl'))"
   ]
  },
  {
   "cell_type": "markdown",
   "id": "a02bbe2b",
   "metadata": {},
   "source": [
    "### 5. Define a function named calculate_tip. It should accept a tip percentage (a number between 0 and 1) and the bill total, and return the amount to tip."
   ]
  },
  {
   "cell_type": "code",
   "execution_count": 22,
   "id": "9665c008",
   "metadata": {},
   "outputs": [
    {
     "name": "stdout",
     "output_type": "stream",
     "text": [
      "Your total bill, including tip, is: $15.15\n"
     ]
    }
   ],
   "source": [
    "def calculate_tip(percentage, total):\n",
    "    if percentage > 1 or percentage < 0:\n",
    "        return str('Please use a percentage value in decimal form, between 0 and 1.')\n",
    "    else:\n",
    "        return str('Your total bill, including tip, is: $' + str((round(float(((total * percentage) + total)),2))))\n",
    "    \n",
    "print(calculate_tip(.25, 12.12))"
   ]
  },
  {
   "cell_type": "markdown",
   "id": "8954abd8",
   "metadata": {},
   "source": [
    "### 6. Define a function named apply_discount. It should accept a original price, and a discount percentage, and return the price after the discount is applied."
   ]
  },
  {
   "cell_type": "code",
   "execution_count": 30,
   "id": "6ba5b8ef",
   "metadata": {},
   "outputs": [
    {
     "name": "stdout",
     "output_type": "stream",
     "text": [
      "Your total bill, minus discount, is: $10.3\n"
     ]
    }
   ],
   "source": [
    "def apply_discount(original_price, discount_percent):\n",
    "    if discount_percent > 1 or discount_percent < 0:\n",
    "        return str('Please use a discount percentage value in decimal form, between 0 and 1.')\n",
    "    else:\n",
    "        return str('Your total bill, minus discount, is: $' + str((round(float(((original_price - (original_price * discount_percent)))),2))))\n",
    "                                                                  \n",
    "print(apply_discount(12.12, .15))                                                                "
   ]
  },
  {
   "cell_type": "markdown",
   "id": "ad7cdf5b",
   "metadata": {},
   "source": [
    "### 7. Define a function named handle_commas. It should accept a string that is a number that contains commas in it as input, and return a number as output."
   ]
  },
  {
   "cell_type": "code",
   "execution_count": 32,
   "id": "c0c61f05",
   "metadata": {},
   "outputs": [
    {
     "name": "stdout",
     "output_type": "stream",
     "text": [
      "37000\n"
     ]
    }
   ],
   "source": [
    "def handle_commas(str):\n",
    "    return str.replace(',','')\n",
    "\n",
    "print(handle_commas('37,000'))"
   ]
  },
  {
   "cell_type": "markdown",
   "id": "f0b80729",
   "metadata": {},
   "source": [
    "### 8. Define a function named get_letter_grade. It should accept a number and return the letter grade associated with that number (A-F)."
   ]
  },
  {
   "cell_type": "code",
   "execution_count": 36,
   "id": "8641b36b",
   "metadata": {},
   "outputs": [
    {
     "name": "stdout",
     "output_type": "stream",
     "text": [
      "Your letter grade is: A\n"
     ]
    }
   ],
   "source": [
    "def get_letter_grade(grade):\n",
    "    if grade >= 90:\n",
    "        letter = 'A'\n",
    "    elif grade >= 80 and grade < 90:\n",
    "        letter = 'B'\n",
    "    elif grade >= 70 and grade < 80:\n",
    "        letter = 'C'\n",
    "    elif grade < 70:\n",
    "        letter = 'F'\n",
    "    return str('Your letter grade is: ' + str(letter))\n",
    "\n",
    "print(get_letter_grade(92))"
   ]
  },
  {
   "cell_type": "markdown",
   "id": "6080aa76",
   "metadata": {},
   "source": [
    "### 9. Define a function named remove_vowels that accepts a string and returns a string with all the vowels removed."
   ]
  },
  {
   "cell_type": "code",
   "execution_count": 47,
   "id": "e8bc4ca3",
   "metadata": {},
   "outputs": [
    {
     "name": "stdout",
     "output_type": "stream",
     "text": [
      "sllqy\n"
     ]
    }
   ],
   "source": [
    "def remove_vowels(str):\n",
    "    vowels = ['a', 'e', 'i', 'o', 'u']\n",
    "    letter_list = []\n",
    "    for letter in str:\n",
    "        if letter not in vowels:\n",
    "            letter_list.append(letter)\n",
    "    vowels_removed = tuple(letter_list)\n",
    "    return ''.join(vowels_removed)\n",
    "    \n",
    "print(remove_vowels('soliloquy'))"
   ]
  },
  {
   "cell_type": "markdown",
   "id": "366f95d7",
   "metadata": {},
   "source": [
    "### 10. Define a function named normalize_name. It should accept a string and return a valid python identifier, that is:\n",
    "\n",
    "#### - anything that is not a valid python identifier should be removed\n",
    "#### - leading and trailing whitespace should be removed\n",
    "#### - everything should be lowercase\n",
    "#### - spaces should be replaced with underscores\n",
    "#### - for example:\n",
    "    - Name will become name\n",
    "    - First Name will become first_name\n",
    "    - % Completed will become completed"
   ]
  },
  {
   "cell_type": "code",
   "execution_count": 64,
   "id": "612cff7c",
   "metadata": {},
   "outputs": [
    {
     "name": "stdout",
     "output_type": "stream",
     "text": [
      "name\n"
     ]
    }
   ],
   "source": [
    "def normalize_name(string):\n",
    "    return string.strip((' 0123456789!@#$%^&*')).replace(' ', '_').lower()\n",
    "\n",
    "print(normalize_name('Name'))"
   ]
  },
  {
   "cell_type": "markdown",
   "id": "d007ef56",
   "metadata": {},
   "source": [
    "### 11. Write a function named cumulative_sum that accepts a list of numbers and returns a list that is the cumulative sum of the numbers in the list.\n",
    "- cumulative_sum([1, 1, 1]) returns [1, 2, 3]\n",
    "- cumulative_sum([1, 2, 3, 4]) returns [1, 3, 6, 10]"
   ]
  },
  {
   "cell_type": "code",
   "execution_count": 71,
   "id": "1c7124e1",
   "metadata": {},
   "outputs": [
    {
     "name": "stdout",
     "output_type": "stream",
     "text": [
      "[1, 3, 6, 10]\n"
     ]
    }
   ],
   "source": [
    "def cumulative_sum(number_list):\n",
    "    sum_list = []\n",
    "    sum_value = 0\n",
    "    for number in number_list:\n",
    "        sum_value += number\n",
    "        sum_list.append(sum_value)\n",
    "    return sum_list\n",
    "\n",
    "print(cumulative_sum([1, 2, 3, 4]))"
   ]
  },
  {
   "cell_type": "markdown",
   "id": "e243212c",
   "metadata": {},
   "source": [
    "# BONUS"
   ]
  },
  {
   "cell_type": "markdown",
   "id": "866dfae2",
   "metadata": {},
   "source": [
    "### 1. Create a function named twelveto24. It should accept a string in the format 10:45am or 4:30pm and return a string that is the representation of the time in a 24-hour format. Bonus write a function that does the opposite."
   ]
  },
  {
   "cell_type": "code",
   "execution_count": null,
   "id": "784b0882",
   "metadata": {},
   "outputs": [],
   "source": []
  },
  {
   "cell_type": "markdown",
   "id": "0d61652b",
   "metadata": {},
   "source": [
    "### 2. Create a function named col_index. It should accept a spreadsheet column name, and return the index number of the column. "
   ]
  },
  {
   "cell_type": "code",
   "execution_count": null,
   "id": "747f9485",
   "metadata": {},
   "outputs": [],
   "source": []
  }
 ],
 "metadata": {
  "kernelspec": {
   "display_name": "Python 3 (ipykernel)",
   "language": "python",
   "name": "python3"
  },
  "language_info": {
   "codemirror_mode": {
    "name": "ipython",
    "version": 3
   },
   "file_extension": ".py",
   "mimetype": "text/x-python",
   "name": "python",
   "nbconvert_exporter": "python",
   "pygments_lexer": "ipython3",
   "version": "3.9.7"
  }
 },
 "nbformat": 4,
 "nbformat_minor": 5
}
