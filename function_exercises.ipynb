{
 "cells": [
  {
   "cell_type": "markdown",
   "id": "1c8b21be",
   "metadata": {},
   "source": [
    "### 1. Define a function named is_two. It should accept one input and return True if the passed input is either the number or the string 2, False otherwise."
   ]
  },
  {
   "cell_type": "code",
   "execution_count": 75,
   "id": "85908c66",
   "metadata": {},
   "outputs": [
    {
     "name": "stdout",
     "output_type": "stream",
     "text": [
      "False\n"
     ]
    }
   ],
   "source": [
    "def is_two(number):\n",
    "    if number == 2 or number == '2':\n",
    "        return(True)\n",
    "    else: \n",
    "        return(False)\n",
    "    \n",
    "    \n",
    "#Adam's solution:\n",
    "def is_two(n):\n",
    "    return n == 2 or n == '2'\n",
    "\n",
    "## This ^ will return the boolean value, without having to write 'if' statements to specifically call for them. \n",
    "\n",
    "print(is_two(3))"
   ]
  },
  {
   "cell_type": "markdown",
   "id": "e9a02c38",
   "metadata": {},
   "source": [
    "### 2. Define a function named is_vowel. It should return True if the passed string is a vowel, False otherwise.\n"
   ]
  },
  {
   "cell_type": "code",
   "execution_count": 78,
   "id": "8716c033",
   "metadata": {},
   "outputs": [
    {
     "name": "stdout",
     "output_type": "stream",
     "text": [
      "True\n"
     ]
    }
   ],
   "source": [
    "def is_vowel(letter):\n",
    "    if letter in ('a', 'e', 'i', 'o', 'u'):\n",
    "        return True\n",
    "    else:\n",
    "        return False\n",
    "\n",
    "# Adam's solution: \n",
    "\n",
    "def is_vowel2(somestring):\n",
    "    if type(somestring) == str: #This line intended to verify first that the input is a string.\n",
    "        result = somestring.lower() in ['a', 'e', 'i', 'o', 'u']\n",
    "        return result\n",
    "    else:\n",
    "        return False\n",
    "    \n",
    "#print(is_vowel('a'))\n",
    "#print(is_vowel2('a'))\n",
    "\n",
    "# I could rewrite mine as (note that in my original, I did not write in a check to verify that the input is a string.)\n",
    "\n",
    "def is_vowel3(string):\n",
    "    return string in ('a', 'e', 'i', 'o', 'u')\n",
    "\n",
    "print(is_vowel3('a'))\n",
    "\n",
    "#A key thing I want to remember is that Python is *already* evaluating expressions, before I ever include an 'if' statement.\n",
    "#This means that if I'm wanting to return a boolean value, I should think about whether the extra lines will make any difference. "
   ]
  },
  {
   "cell_type": "markdown",
   "id": "14a50d96",
   "metadata": {},
   "source": [
    "### 3. Define a function named is_consonant. It should return True if the passed string is a consonant, False otherwise. Use your is_vowel function to accomplish this.\n",
    "    "
   ]
  },
  {
   "cell_type": "code",
   "execution_count": 79,
   "id": "c939513b",
   "metadata": {},
   "outputs": [
    {
     "name": "stdout",
     "output_type": "stream",
     "text": [
      "True\n",
      "True\n"
     ]
    }
   ],
   "source": [
    "def is_consonant(letter):\n",
    "    if letter in ('a', 'e', 'i', 'o', 'u'):\n",
    "        return False\n",
    "    else:\n",
    "        return True\n",
    "    \n",
    "print(is_consonant('b'))\n",
    "    \n",
    "#Adam's solution\n",
    "def is_consonant2(somestring):\n",
    "    if type(somestring) == str: #This line validates the string type (I'd like to practice including these more)\n",
    "        only_letters = somestring.isalpha() #This line verifies that the characters are alphabetical\n",
    "        return only_letters and not is_vowel(somestring) # This line runs it through the is_vowel function and negates the return. Since consonants and vowels are dichotomous.\n",
    "    return False\n",
    "    \n",
    "print(is_consonant2('b'))"
   ]
  },
  {
   "cell_type": "markdown",
   "id": "340b6984",
   "metadata": {},
   "source": [
    "### 4. Define a function that accepts a string that is a word. The function should capitalize the first letter of the word if the word starts with a consonant.\n"
   ]
  },
  {
   "cell_type": "code",
   "execution_count": 6,
   "id": "fa335a83",
   "metadata": {},
   "outputs": [
    {
     "name": "stdout",
     "output_type": "stream",
     "text": [
      "Please enter a word starting with a consonant.\n"
     ]
    }
   ],
   "source": [
    "def capital_word(word):\n",
    "    first_letter = word[0]\n",
    "    if word[0] not in ['A', 'a', 'E', 'e', 'I', 'i', 'O', 'o', 'U', 'u']:\n",
    "        print(word[0])\n",
    "        return str(word).title()\n",
    "    else:\n",
    "        return \"Please enter a word starting with a consonant.\"\n",
    "\n",
    "print(capital_word('Axolotl'))"
   ]
  },
  {
   "cell_type": "markdown",
   "id": "b331f563",
   "metadata": {},
   "source": [
    "### 5. Define a function named calculate_tip. It should accept a tip percentage (a number between 0 and 1) and the bill total, and return the amount to tip."
   ]
  },
  {
   "cell_type": "code",
   "execution_count": 22,
   "id": "7bd678e0",
   "metadata": {},
   "outputs": [
    {
     "name": "stdout",
     "output_type": "stream",
     "text": [
      "Your total bill, including tip, is: $15.15\n"
     ]
    }
   ],
   "source": [
    "def calculate_tip(percentage, total):\n",
    "    if percentage > 1 or percentage < 0:\n",
    "        return str('Please use a percentage value in decimal form, between 0 and 1.')\n",
    "    else:\n",
    "        return str('Your total bill, including tip, is: $' + str((round(float(((total * percentage) + total)),2))))\n",
    "    \n",
    "print(calculate_tip(.25, 12.12))"
   ]
  },
  {
   "cell_type": "markdown",
   "id": "5e76cf14",
   "metadata": {},
   "source": [
    "### 6. Define a function named apply_discount. It should accept a original price, and a discount percentage, and return the price after the discount is applied."
   ]
  },
  {
   "cell_type": "code",
   "execution_count": 30,
   "id": "e9faaa32",
   "metadata": {},
   "outputs": [
    {
     "name": "stdout",
     "output_type": "stream",
     "text": [
      "Your total bill, minus discount, is: $10.3\n"
     ]
    }
   ],
   "source": [
    "def apply_discount(original_price, discount_percent):\n",
    "    if discount_percent > 1 or discount_percent < 0:\n",
    "        return str('Please use a discount percentage value in decimal form, between 0 and 1.')\n",
    "    else:\n",
    "        return str('Your total bill, minus discount, is: $' + str((round(float(((original_price - (original_price * discount_percent)))),2))))\n",
    "                                                                  \n",
    "print(apply_discount(12.12, .15))                                                                "
   ]
  },
  {
   "cell_type": "markdown",
   "id": "22c2513d",
   "metadata": {},
   "source": [
    "### 7. Define a function named handle_commas. It should accept a string that is a number that contains commas in it as input, and return a number as output."
   ]
  },
  {
   "cell_type": "code",
   "execution_count": 32,
   "id": "ee86fda9",
   "metadata": {},
   "outputs": [
    {
     "name": "stdout",
     "output_type": "stream",
     "text": [
      "37000\n"
     ]
    }
   ],
   "source": [
    "def handle_commas(str):\n",
    "    return str.replace(',','')\n",
    "\n",
    "print(handle_commas('37,000'))\n",
    "\n",
    "#Adam's Solution:\n",
    "def handle_commas2(somestring):\n",
    "    if type(somestring) != str:\n",
    "        return 'input must be a string'\n",
    "    somestring = somestring.replace(',','')\n",
    "    if somestring.isdigit():\n",
    "        return float(somestring)\n",
    "    else: 'Please enter a value that is a string.'"
   ]
  },
  {
   "cell_type": "markdown",
   "id": "523e2e88",
   "metadata": {},
   "source": [
    "### 8. Define a function named get_letter_grade. It should accept a number and return the letter grade associated with that number (A-F)."
   ]
  },
  {
   "cell_type": "code",
   "execution_count": 36,
   "id": "d19d39d5",
   "metadata": {},
   "outputs": [
    {
     "name": "stdout",
     "output_type": "stream",
     "text": [
      "Your letter grade is: A\n"
     ]
    }
   ],
   "source": [
    "def get_letter_grade(grade):\n",
    "    if grade >= 90:\n",
    "        letter = 'A'\n",
    "    elif grade >= 80 and grade < 90:\n",
    "        letter = 'B'\n",
    "    elif grade >= 70 and grade < 80:\n",
    "        letter = 'C'\n",
    "    elif grade < 70:\n",
    "        letter = 'F'\n",
    "    return str('Your letter grade is: ' + str(letter))\n",
    "\n",
    "print(get_letter_grade(92))"
   ]
  },
  {
   "cell_type": "markdown",
   "id": "7a590b68",
   "metadata": {},
   "source": [
    "### 9. Define a function named remove_vowels that accepts a string and returns a string with all the vowels removed."
   ]
  },
  {
   "cell_type": "code",
   "execution_count": 47,
   "id": "93cf0e4d",
   "metadata": {},
   "outputs": [
    {
     "name": "stdout",
     "output_type": "stream",
     "text": [
      "sllqy\n"
     ]
    }
   ],
   "source": [
    "def remove_vowels(str):\n",
    "    vowels = ['a', 'e', 'i', 'o', 'u']\n",
    "    letter_list = []\n",
    "    for letter in str:\n",
    "        if letter not in vowels:\n",
    "            letter_list.append(letter)\n",
    "    vowels_removed = tuple(letter_list)\n",
    "    return ''.join(vowels_removed)\n",
    "    \n",
    "print(remove_vowels('soliloquy'))"
   ]
  },
  {
   "cell_type": "markdown",
   "id": "5bab0671",
   "metadata": {},
   "source": [
    "### 10. Define a function named normalize_name. It should accept a string and return a valid python identifier, that is:\n",
    "\n",
    "#### - anything that is not a valid python identifier should be removed\n",
    "#### - leading and trailing whitespace should be removed\n",
    "#### - everything should be lowercase\n",
    "#### - spaces should be replaced with underscores\n",
    "#### - for example:\n",
    "    - Name will become name\n",
    "    - First Name will become first_name\n",
    "    - % Completed will become completed"
   ]
  },
  {
   "cell_type": "code",
   "execution_count": 64,
   "id": "608251f3",
   "metadata": {},
   "outputs": [
    {
     "name": "stdout",
     "output_type": "stream",
     "text": [
      "name\n"
     ]
    }
   ],
   "source": [
    "def normalize_name(string):\n",
    "    return string.strip((' 0123456789!@#$%^&*')).replace(' ', '_').lower()\n",
    "\n",
    "print(normalize_name('Name'))\n",
    "\n",
    "#the string method .isidentifier() could take some of the guesswork out of what is allowed."
   ]
  },
  {
   "cell_type": "markdown",
   "id": "45fae000",
   "metadata": {},
   "source": [
    "### 11. Write a function named cumulative_sum that accepts a list of numbers and returns a list that is the cumulative sum of the numbers in the list.\n",
    "- cumulative_sum([1, 1, 1]) returns [1, 2, 3]\n",
    "- cumulative_sum([1, 2, 3, 4]) returns [1, 3, 6, 10]"
   ]
  },
  {
   "cell_type": "code",
   "execution_count": 71,
   "id": "f88e9864",
   "metadata": {},
   "outputs": [
    {
     "name": "stdout",
     "output_type": "stream",
     "text": [
      "[1, 3, 6, 10]\n"
     ]
    }
   ],
   "source": [
    "def cumulative_sum(number_list):\n",
    "    sum_list = []\n",
    "    sum_value = 0\n",
    "    for number in number_list:\n",
    "        sum_value += number\n",
    "        sum_list.append(sum_value)\n",
    "    return sum_list\n",
    "\n",
    "print(cumulative_sum([1, 2, 3, 4]))\n",
    "\n",
    "#Come back and look into the \"enumerate\" tool for this exercise. "
   ]
  },
  {
   "cell_type": "markdown",
   "id": "cdb281e1",
   "metadata": {},
   "source": [
    "# BONUS"
   ]
  },
  {
   "cell_type": "markdown",
   "id": "1f4efcb8",
   "metadata": {},
   "source": [
    "### 1. Create a function named twelveto24. It should accept a string in the format 10:45am or 4:30pm and return a string that is the representation of the time in a 24-hour format. Bonus write a function that does the opposite."
   ]
  },
  {
   "cell_type": "code",
   "execution_count": null,
   "id": "a3f563bb",
   "metadata": {},
   "outputs": [],
   "source": []
  },
  {
   "cell_type": "markdown",
   "id": "7ce32223",
   "metadata": {},
   "source": [
    "### 2. Create a function named col_index. It should accept a spreadsheet column name, and return the index number of the column. "
   ]
  },
  {
   "cell_type": "code",
   "execution_count": null,
   "id": "85c858cf",
   "metadata": {},
   "outputs": [],
   "source": []
  }
 ],
 "metadata": {
  "kernelspec": {
   "display_name": "Python 3 (ipykernel)",
   "language": "python",
   "name": "python3"
  },
  "language_info": {
   "codemirror_mode": {
    "name": "ipython",
    "version": 3
   },
   "file_extension": ".py",
   "mimetype": "text/x-python",
   "name": "python",
   "nbconvert_exporter": "python",
   "pygments_lexer": "ipython3",
   "version": "3.9.7"
  }
 },
 "nbformat": 4,
 "nbformat_minor": 5
}
