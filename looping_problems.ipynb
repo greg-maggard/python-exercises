{
 "cells": [
  {
   "cell_type": "code",
   "execution_count": 1,
   "id": "3c5e75e2",
   "metadata": {},
   "outputs": [],
   "source": [
    "students = [\n",
    "    {\n",
    "        \"id\": \"100001\",\n",
    "        \"student\": \"Ada Lovelace\",\n",
    "        \"coffee_preference\": \"light\",\n",
    "        \"course\": \"web development\",\n",
    "        \"grades\": [70, 91, 82, 71],\n",
    "        \"pets\": [{\"species\": \"horse\", \"age\": 8}],\n",
    "    },\n",
    "    {\n",
    "        \"id\": \"100002\",\n",
    "        \"student\": \"Thomas Bayes\",\n",
    "        \"coffee_preference\": \"medium\",\n",
    "        \"course\": \"data science\",\n",
    "        \"grades\": [75, 73, 86, 100],\n",
    "        \"pets\": [],\n",
    "    },\n",
    "    {\n",
    "        \"id\": \"100003\",\n",
    "        \"student\": \"Marie Curie\",\n",
    "        \"coffee_preference\": \"light\",\n",
    "        \"course\": \"web development\",\n",
    "        \"grades\": [70, 89, 69, 65],\n",
    "        \"pets\": [{\"species\": \"cat\", \"age\": 0}],\n",
    "    },\n",
    "    {\n",
    "        \"id\": \"100004\",\n",
    "        \"student\": \"Grace Hopper\",\n",
    "        \"coffee_preference\": \"dark\",\n",
    "        \"course\": \"data science\",\n",
    "        \"grades\": [73, 66, 83, 92],\n",
    "        \"pets\": [{\"species\": \"dog\", \"age\": 4}, {\"species\": \"cat\", \"age\": 4}],\n",
    "    },\n",
    "    {\n",
    "        \"id\": \"100005\",\n",
    "        \"student\": \"Alan Turing\",\n",
    "        \"coffee_preference\": \"dark\",\n",
    "        \"course\": \"web development\",\n",
    "        \"grades\": [78, 98, 85, 65],\n",
    "        \"pets\": [\n",
    "            {\"species\": \"horse\", \"age\": 6},\n",
    "            {\"species\": \"horse\", \"age\": 7},\n",
    "            {\"species\": \"dog\", \"age\": 5},\n",
    "        ],\n",
    "    },\n",
    "    {\n",
    "        \"id\": \"100006\",\n",
    "        \"student\": \"Rosalind Franklin\",\n",
    "        \"coffee_preference\": \"dark\",\n",
    "        \"course\": \"data science\",\n",
    "        \"grades\": [76, 70, 96, 81],\n",
    "        \"pets\": [],\n",
    "    },\n",
    "    {\n",
    "        \"id\": \"100007\",\n",
    "        \"student\": \"Elizabeth Blackwell\",\n",
    "        \"coffee_preference\": \"dark\",\n",
    "        \"course\": \"web development\",\n",
    "        \"grades\": [69, 94, 89, 86],\n",
    "        \"pets\": [{\"species\": \"cat\", \"age\": 10}],\n",
    "    },\n",
    "    {\n",
    "        \"id\": \"100008\",\n",
    "        \"student\": \"Rene Descartes\",\n",
    "        \"coffee_preference\": \"medium\",\n",
    "        \"course\": \"data science\",\n",
    "        \"grades\": [87, 79, 90, 99],\n",
    "        \"pets\": [{\"species\": \"cat\", \"age\": 10}, {\"species\": \"cat\", \"age\": 8}],\n",
    "    },\n",
    "    {\n",
    "        \"id\": \"100009\",\n",
    "        \"student\": \"Ahmed Zewail\",\n",
    "        \"coffee_preference\": \"medium\",\n",
    "        \"course\": \"data science\",\n",
    "        \"grades\": [74, 99, 93, 89],\n",
    "        \"pets\": [{\"species\": \"cat\", \"age\": 0}, {\"species\": \"cat\", \"age\": 0}],\n",
    "    },\n",
    "    {\n",
    "        \"id\": \"100010\",\n",
    "        \"student\": \"Chien-Shiung Wu\",\n",
    "        \"coffee_preference\": \"medium\",\n",
    "        \"course\": \"web development\",\n",
    "        \"grades\": [82, 92, 91, 65],\n",
    "        \"pets\": [{\"species\": \"cat\", \"age\": 8}],\n",
    "    },\n",
    "    {\n",
    "        \"id\": \"100011\",\n",
    "        \"student\": \"William Sanford Nye\",\n",
    "        \"coffee_preference\": \"dark\",\n",
    "        \"course\": \"data science\",\n",
    "        \"grades\": [70, 92, 65, 99],\n",
    "        \"pets\": [{\"species\": \"cat\", \"age\": 8}, {\"species\": \"cat\", \"age\": 5}],\n",
    "    },\n",
    "    {\n",
    "        \"id\": \"100012\",\n",
    "        \"student\": \"Carl Sagan\",\n",
    "        \"coffee_preference\": \"medium\",\n",
    "        \"course\": \"data science\",\n",
    "        \"grades\": [100, 86, 91, 87],\n",
    "        \"pets\": [{\"species\": \"cat\", \"age\": 10}],\n",
    "    },\n",
    "    {\n",
    "        \"id\": \"100013\",\n",
    "        \"student\": \"Jane Goodall\",\n",
    "        \"coffee_preference\": \"light\",\n",
    "        \"course\": \"web development\",\n",
    "        \"grades\": [80, 70, 68, 98],\n",
    "        \"pets\": [{\"species\": \"horse\", \"age\": 4}],\n",
    "    },\n",
    "    {\n",
    "        \"id\": \"100014\",\n",
    "        \"student\": \"Richard Feynman\",\n",
    "        \"coffee_preference\": \"medium\",\n",
    "        \"course\": \"web development\",\n",
    "        \"grades\": [73, 99, 86, 98],\n",
    "        \"pets\": [{\"species\": \"dog\", \"age\": 6}],\n",
    "    },\n",
    "]"
   ]
  },
  {
   "cell_type": "markdown",
   "id": "1a145c91",
   "metadata": {},
   "source": [
    "### 1. How many students are there?"
   ]
  },
  {
   "cell_type": "code",
   "execution_count": 8,
   "id": "bc4fda88",
   "metadata": {},
   "outputs": [
    {
     "name": "stdout",
     "output_type": "stream",
     "text": [
      "14\n"
     ]
    }
   ],
   "source": [
    "print(len(students))"
   ]
  },
  {
   "cell_type": "markdown",
   "id": "8532cc6d",
   "metadata": {},
   "source": [
    "### 2. How many students prefer light coffee? For each type of coffee roast?"
   ]
  },
  {
   "cell_type": "code",
   "execution_count": 9,
   "id": "9cd6a059",
   "metadata": {},
   "outputs": [
    {
     "name": "stdout",
     "output_type": "stream",
     "text": [
      "3\n"
     ]
    }
   ],
   "source": [
    "light_coffee_preference = 0 \n",
    "\n",
    "for student in students:\n",
    "    if student['coffee_preference'] == 'light':\n",
    "        light_coffee_preference += 1\n",
    "\n",
    "print(light_coffee_preference)"
   ]
  },
  {
   "cell_type": "markdown",
   "id": "807554d0",
   "metadata": {},
   "source": [
    "### 3. How many types of each pet are there?"
   ]
  },
  {
   "cell_type": "code",
   "execution_count": 12,
   "id": "41990ff7",
   "metadata": {},
   "outputs": [
    {
     "name": "stdout",
     "output_type": "stream",
     "text": [
      "11\n",
      "4\n",
      "3\n"
     ]
    }
   ],
   "source": [
    "cats = 0\n",
    "horses = 0 \n",
    "dogs = 0 \n",
    "\n",
    "for student in students:\n",
    "    for pet in student['pets']:\n",
    "        if pet['species'] == 'cat':\n",
    "            cats += 1\n",
    "        if pet['species'] == 'horse':\n",
    "            horses += 1\n",
    "        if pet['species'] == 'dog':\n",
    "            dogs += 1\n",
    "            \n",
    "print(cats)\n",
    "print(horses)\n",
    "print(dogs)\n",
    "            "
   ]
  },
  {
   "cell_type": "markdown",
   "id": "1ef6d0a5",
   "metadata": {},
   "source": [
    "### 4. How many grades does each student have? Do they all have the same number of grades?"
   ]
  },
  {
   "cell_type": "code",
   "execution_count": 15,
   "id": "9f967155",
   "metadata": {},
   "outputs": [
    {
     "name": "stdout",
     "output_type": "stream",
     "text": [
      "Student number: 1\n",
      "This student has 4 grades listed.\n",
      "Student number: 2\n",
      "This student has 4 grades listed.\n",
      "Student number: 3\n",
      "This student has 4 grades listed.\n",
      "Student number: 4\n",
      "This student has 4 grades listed.\n",
      "Student number: 5\n",
      "This student has 4 grades listed.\n",
      "Student number: 6\n",
      "This student has 4 grades listed.\n",
      "Student number: 7\n",
      "This student has 4 grades listed.\n",
      "Student number: 8\n",
      "This student has 4 grades listed.\n",
      "Student number: 9\n",
      "This student has 4 grades listed.\n",
      "Student number: 10\n",
      "This student has 4 grades listed.\n",
      "Student number: 11\n",
      "This student has 4 grades listed.\n",
      "Student number: 12\n",
      "This student has 4 grades listed.\n",
      "Student number: 13\n",
      "This student has 4 grades listed.\n",
      "Student number: 14\n",
      "This student has 4 grades listed.\n"
     ]
    }
   ],
   "source": [
    "student_counter = 1\n",
    "\n",
    "for student in students:\n",
    "    number_of_grades = 0\n",
    "    print('Student number: ' + str(student_counter))\n",
    "    for grade in student['grades']: \n",
    "        number_of_grades += 1\n",
    "    print('This student has ' + str(number_of_grades) + ' grades listed.')\n",
    "    student_counter +=1\n",
    "    \n",
    "#Yes, it appears that all students have 4 grades.     "
   ]
  },
  {
   "cell_type": "markdown",
   "id": "75722e97",
   "metadata": {},
   "source": [
    "### 5. What is each student's grade average?"
   ]
  },
  {
   "cell_type": "code",
   "execution_count": 17,
   "id": "e765a136",
   "metadata": {},
   "outputs": [
    {
     "name": "stdout",
     "output_type": "stream",
     "text": [
      "Student number: 1\n",
      "This student has 4 grades listed.\n",
      "This student's average grade is 78.5.\n",
      "\n",
      "\n",
      "Student number: 2\n",
      "This student has 4 grades listed.\n",
      "This student's average grade is 83.5.\n",
      "\n",
      "\n",
      "Student number: 3\n",
      "This student has 4 grades listed.\n",
      "This student's average grade is 73.25.\n",
      "\n",
      "\n",
      "Student number: 4\n",
      "This student has 4 grades listed.\n",
      "This student's average grade is 78.5.\n",
      "\n",
      "\n",
      "Student number: 5\n",
      "This student has 4 grades listed.\n",
      "This student's average grade is 81.5.\n",
      "\n",
      "\n",
      "Student number: 6\n",
      "This student has 4 grades listed.\n",
      "This student's average grade is 80.75.\n",
      "\n",
      "\n",
      "Student number: 7\n",
      "This student has 4 grades listed.\n",
      "This student's average grade is 84.5.\n",
      "\n",
      "\n",
      "Student number: 8\n",
      "This student has 4 grades listed.\n",
      "This student's average grade is 88.75.\n",
      "\n",
      "\n",
      "Student number: 9\n",
      "This student has 4 grades listed.\n",
      "This student's average grade is 88.75.\n",
      "\n",
      "\n",
      "Student number: 10\n",
      "This student has 4 grades listed.\n",
      "This student's average grade is 82.5.\n",
      "\n",
      "\n",
      "Student number: 11\n",
      "This student has 4 grades listed.\n",
      "This student's average grade is 81.5.\n",
      "\n",
      "\n",
      "Student number: 12\n",
      "This student has 4 grades listed.\n",
      "This student's average grade is 91.0.\n",
      "\n",
      "\n",
      "Student number: 13\n",
      "This student has 4 grades listed.\n",
      "This student's average grade is 79.0.\n",
      "\n",
      "\n",
      "Student number: 14\n",
      "This student has 4 grades listed.\n",
      "This student's average grade is 89.0.\n",
      "\n",
      "\n"
     ]
    }
   ],
   "source": [
    "student_counter = 1\n",
    "\n",
    "for student in students:\n",
    "    number_of_grades = 0\n",
    "    grade_sum = 0\n",
    "    print('Student number: ' + str(student_counter))\n",
    "    for grade in student['grades']: \n",
    "        number_of_grades += 1\n",
    "        grade_sum += grade\n",
    "    print('This student has ' + str(number_of_grades) + ' grades listed.')\n",
    "    print(\"This student's average grade is \" + str(grade_sum / number_of_grades) + \".\")\n",
    "    print('\\n')\n",
    "    \n",
    "    student_counter +=1"
   ]
  },
  {
   "cell_type": "markdown",
   "id": "b3fe8f72",
   "metadata": {},
   "source": [
    "### 6. How many pets does each student have?"
   ]
  },
  {
   "cell_type": "code",
   "execution_count": 31,
   "id": "f33e62ff",
   "metadata": {},
   "outputs": [
    {
     "name": "stdout",
     "output_type": "stream",
     "text": [
      "Student number 1 has 1 pet(s).\n",
      "\n",
      "\n",
      "Student number 2 has 0 pet(s).\n",
      "\n",
      "\n",
      "Student number 3 has 1 pet(s).\n",
      "\n",
      "\n",
      "Student number 4 has 2 pet(s).\n",
      "\n",
      "\n",
      "Student number 5 has 3 pet(s).\n",
      "\n",
      "\n",
      "Student number 6 has 0 pet(s).\n",
      "\n",
      "\n",
      "Student number 7 has 1 pet(s).\n",
      "\n",
      "\n",
      "Student number 8 has 2 pet(s).\n",
      "\n",
      "\n",
      "Student number 9 has 2 pet(s).\n",
      "\n",
      "\n",
      "Student number 10 has 1 pet(s).\n",
      "\n",
      "\n",
      "Student number 11 has 2 pet(s).\n",
      "\n",
      "\n",
      "Student number 12 has 1 pet(s).\n",
      "\n",
      "\n",
      "Student number 13 has 1 pet(s).\n",
      "\n",
      "\n",
      "Student number 14 has 1 pet(s).\n",
      "\n",
      "\n"
     ]
    }
   ],
   "source": [
    "student_counter = 1\n",
    "\n",
    "for student in students:\n",
    "    print('Student number ' + str(student_counter) + ' has ' + str(len(student['pets'])) + ' pet(s).')\n",
    "    print('\\n')\n",
    "    student_counter += 1"
   ]
  },
  {
   "cell_type": "markdown",
   "id": "521ab6fb",
   "metadata": {},
   "source": [
    "### 7. How many students are in web development? data science?"
   ]
  },
  {
   "cell_type": "code",
   "execution_count": 33,
   "id": "2eeb3f10",
   "metadata": {},
   "outputs": [
    {
     "name": "stdout",
     "output_type": "stream",
     "text": [
      "There are 7 web development students.\n",
      "There are 7 data science students.\n"
     ]
    }
   ],
   "source": [
    "web_development_counter = 0\n",
    "data_science_counter = 0\n",
    "\n",
    "for student in students:\n",
    "    if student['course'] == 'web development':\n",
    "        web_development_counter += 1\n",
    "    elif student['course'] == 'data science':\n",
    "        data_science_counter += 1\n",
    "        \n",
    "print(\"There are \" + str(web_development_counter) + \" web development students.\")\n",
    "print(\"There are \" + str(data_science_counter) + \" data science students.\")"
   ]
  },
  {
   "cell_type": "markdown",
   "id": "1a9c51f2",
   "metadata": {},
   "source": [
    "### 8. What is the average number of pets for students in web development?"
   ]
  },
  {
   "cell_type": "code",
   "execution_count": 37,
   "id": "d8e060cc",
   "metadata": {},
   "outputs": [
    {
     "name": "stdout",
     "output_type": "stream",
     "text": [
      "9\n",
      "The average number of pets per student in web development is 1.2857142857142858\n"
     ]
    }
   ],
   "source": [
    "pet_counter = 0\n",
    "web_development_students = 0\n",
    "\n",
    "for student in students:\n",
    "    if student['course'] == 'web development':\n",
    "        web_development_students += 1\n",
    "        pet_counter += len(student['pets'])\n",
    "\n",
    "print(\"The average number of pets per student in web development is \" + str((pet_counter / web_development_students)))"
   ]
  },
  {
   "cell_type": "markdown",
   "id": "04a5f3a1",
   "metadata": {},
   "source": [
    "### 9. What is the average pet age for students in data science?"
   ]
  },
  {
   "cell_type": "code",
   "execution_count": 44,
   "id": "f1ccd11d",
   "metadata": {},
   "outputs": [
    {
     "name": "stdout",
     "output_type": "stream",
     "text": [
      "The average pet age for students in data science is 5.444444444444445\n"
     ]
    }
   ],
   "source": [
    "pet_counter = 0\n",
    "age_sum = 0\n",
    "\n",
    "for student in students:\n",
    "    if student['course'] == 'data science':\n",
    "        pet_counter += len(student['pets'])\n",
    "        for pet in student['pets']:\n",
    "            age_sum += pet['age']\n",
    "\n",
    "print(\"The average pet age for students in data science is \" + str((age_sum / pet_counter)))"
   ]
  },
  {
   "cell_type": "markdown",
   "id": "f04bb079",
   "metadata": {},
   "source": [
    "### 10. What is most frequent coffee preference for data science students?"
   ]
  },
  {
   "cell_type": "code",
   "execution_count": null,
   "id": "b1479f1a",
   "metadata": {},
   "outputs": [],
   "source": []
  },
  {
   "cell_type": "markdown",
   "id": "9ae7a641",
   "metadata": {},
   "source": [
    "### 11. What is the least frequent coffee preference for web development students?"
   ]
  },
  {
   "cell_type": "code",
   "execution_count": null,
   "id": "0dd46369",
   "metadata": {},
   "outputs": [],
   "source": []
  },
  {
   "cell_type": "markdown",
   "id": "c6460f81",
   "metadata": {},
   "source": [
    "### 12. What is the average grade for students with at least 2 pets?"
   ]
  },
  {
   "cell_type": "code",
   "execution_count": null,
   "id": "b8f5539f",
   "metadata": {},
   "outputs": [],
   "source": []
  },
  {
   "cell_type": "markdown",
   "id": "987fff21",
   "metadata": {},
   "source": [
    "### 13. How many students have 3 pets?"
   ]
  },
  {
   "cell_type": "code",
   "execution_count": null,
   "id": "f23a1335",
   "metadata": {},
   "outputs": [],
   "source": []
  },
  {
   "cell_type": "markdown",
   "id": "562975e1",
   "metadata": {},
   "source": [
    "### 14. How many students have 3 pets?"
   ]
  },
  {
   "cell_type": "code",
   "execution_count": null,
   "id": "3596f70a",
   "metadata": {},
   "outputs": [],
   "source": []
  },
  {
   "cell_type": "markdown",
   "id": "d818bf02",
   "metadata": {},
   "source": [
    "### 15. What is the average grade for web development students? data science students?"
   ]
  },
  {
   "cell_type": "code",
   "execution_count": null,
   "id": "a5f577de",
   "metadata": {},
   "outputs": [],
   "source": []
  },
  {
   "cell_type": "markdown",
   "id": "4d7a2cd2",
   "metadata": {},
   "source": [
    "### 16. What is the average grade range (i.e. highest grade - lowest grade) for dark coffee drinkers?"
   ]
  },
  {
   "cell_type": "code",
   "execution_count": null,
   "id": "8df3903d",
   "metadata": {},
   "outputs": [],
   "source": []
  },
  {
   "cell_type": "markdown",
   "id": "526a2ca8",
   "metadata": {},
   "source": [
    "### 17. What is the average number of pets for medium coffee drinkers?\n"
   ]
  },
  {
   "cell_type": "code",
   "execution_count": null,
   "id": "cf5c521c",
   "metadata": {},
   "outputs": [],
   "source": []
  },
  {
   "cell_type": "markdown",
   "id": "b45a0e8a",
   "metadata": {},
   "source": [
    "### 18. What is the most common type of pet for web development students?"
   ]
  },
  {
   "cell_type": "code",
   "execution_count": null,
   "id": "a311ef9c",
   "metadata": {},
   "outputs": [],
   "source": []
  },
  {
   "cell_type": "markdown",
   "id": "eef061ae",
   "metadata": {},
   "source": [
    "### 19. What is the average name length?"
   ]
  },
  {
   "cell_type": "code",
   "execution_count": null,
   "id": "fbf497ba",
   "metadata": {},
   "outputs": [],
   "source": []
  },
  {
   "cell_type": "markdown",
   "id": "21f4a7fd",
   "metadata": {},
   "source": [
    "### 20. What is the highest pet age for light coffee drinkers?"
   ]
  },
  {
   "cell_type": "code",
   "execution_count": null,
   "id": "afc0f9bf",
   "metadata": {},
   "outputs": [],
   "source": []
  }
 ],
 "metadata": {
  "kernelspec": {
   "display_name": "Python 3 (ipykernel)",
   "language": "python",
   "name": "python3"
  },
  "language_info": {
   "codemirror_mode": {
    "name": "ipython",
    "version": 3
   },
   "file_extension": ".py",
   "mimetype": "text/x-python",
   "name": "python",
   "nbconvert_exporter": "python",
   "pygments_lexer": "ipython3",
   "version": "3.9.7"
  }
 },
 "nbformat": 4,
 "nbformat_minor": 5
}
