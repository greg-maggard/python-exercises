{
 "cells": [
  {
   "cell_type": "code",
   "execution_count": null,
   "id": "dd2e889d",
   "metadata": {},
   "outputs": [],
   "source": []
  },
  {
   "cell_type": "markdown",
   "id": "9ea0ccdd",
   "metadata": {},
   "source": [
    "## 1(c). Create a jupyter notebook named import_exercises.ipynb. Use from to import the get_letter_grade function and give it an alias. Test this function in your notebook."
   ]
  },
  {
   "cell_type": "code",
   "execution_count": null,
   "id": "6f45db24",
   "metadata": {},
   "outputs": [],
   "source": [
    "#normally, I would list imports at the top of the file. I am only doing this here because it is a single function part of the problem.\n",
    "from function_exercises import get_letter_grade as grade"
   ]
  },
  {
   "cell_type": "code",
   "execution_count": null,
   "id": "6c84a60d",
   "metadata": {},
   "outputs": [],
   "source": [
    "print(grade(87))"
   ]
  },
  {
   "cell_type": "markdown",
   "id": "cb98fbe6",
   "metadata": {},
   "source": [
    "## 2. Read about and use the itertools module from the python standard library to help you solve the following problems:"
   ]
  },
  {
   "cell_type": "markdown",
   "id": "37d0204f",
   "metadata": {},
   "source": [
    "### - How many different ways can you combine the letters from \"abc\" with the numbers 1, 2, and 3?"
   ]
  },
  {
   "cell_type": "code",
   "execution_count": null,
   "id": "8d92597d",
   "metadata": {},
   "outputs": [],
   "source": [
    "#normally do imports at top of a project, but treating each of these questions as a separate 'project'\n",
    "from itertools import permutations as perm"
   ]
  },
  {
   "cell_type": "code",
   "execution_count": null,
   "id": "c7d7f3ac",
   "metadata": {},
   "outputs": [],
   "source": [
    "characters = ['a', 'b', 'c', 1, 2, 3]\n",
    "\n",
    "#for i in list(perm(characters)):\n",
    "    #print(i)\n",
    "    \n",
    "print(len(list(perm(characters))))"
   ]
  },
  {
   "cell_type": "markdown",
   "id": "cf7303aa",
   "metadata": {},
   "source": [
    "### -How many different combinations are there of 2 letters from \"abcd\"?"
   ]
  },
  {
   "cell_type": "code",
   "execution_count": null,
   "id": "21d70d21",
   "metadata": {},
   "outputs": [],
   "source": [
    "from itertools import combinations as combo"
   ]
  },
  {
   "cell_type": "code",
   "execution_count": null,
   "id": "273be10f",
   "metadata": {},
   "outputs": [],
   "source": [
    "characters = 'abcd'\n",
    "\n",
    "print(len(list(combo(characters, 2))))"
   ]
  },
  {
   "cell_type": "code",
   "execution_count": null,
   "id": "db30d3e1",
   "metadata": {},
   "outputs": [],
   "source": [
    "### - How many different permutations are there of 2 letters from \"abcd\"?"
   ]
  },
  {
   "cell_type": "code",
   "execution_count": null,
   "id": "c06c262f",
   "metadata": {},
   "outputs": [],
   "source": [
    "characters = 'abcd'\n",
    "\n",
    "print(len(list(perm(characters, 2))))"
   ]
  },
  {
   "cell_type": "code",
   "execution_count": null,
   "id": "155d01de",
   "metadata": {},
   "outputs": [],
   "source": []
  }
 ],
 "metadata": {
  "kernelspec": {
   "display_name": "Python 3 (ipykernel)",
   "language": "python",
   "name": "python3"
  },
  "language_info": {
   "codemirror_mode": {
    "name": "ipython",
    "version": 3
   },
   "file_extension": ".py",
   "mimetype": "text/x-python",
   "name": "python",
   "nbconvert_exporter": "python",
   "pygments_lexer": "ipython3",
   "version": "3.9.7"
  }
 },
 "nbformat": 4,
 "nbformat_minor": 5
}
