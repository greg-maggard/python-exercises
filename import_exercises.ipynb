{
 "cells": [
  {
   "cell_type": "code",
   "execution_count": null,
   "id": "3d5b2506",
   "metadata": {},
   "outputs": [],
   "source": []
  },
  {
   "cell_type": "markdown",
   "id": "dcdb978a",
   "metadata": {},
   "source": [
    "## 1(c). Create a jupyter notebook named import_exercises.ipynb. Use from to import the get_letter_grade function and give it an alias. Test this function in your notebook."
   ]
  },
  {
   "cell_type": "code",
   "execution_count": null,
   "id": "37d889b0",
   "metadata": {},
   "outputs": [],
   "source": [
    "#normally, I would list imports at the top of the file. I am only doing this here because it is a single function part of the problem.\n",
    "from function_exercises import get_letter_grade as grade"
   ]
  },
  {
   "cell_type": "code",
   "execution_count": null,
   "id": "366ad210",
   "metadata": {},
   "outputs": [],
   "source": [
    "print(grade(87))"
   ]
  },
  {
   "cell_type": "markdown",
   "id": "cc4c4d37",
   "metadata": {},
   "source": [
    "## 2. Read about and use the itertools module from the python standard library to help you solve the following problems:"
   ]
  },
  {
   "cell_type": "markdown",
   "id": "a4d40d0f",
   "metadata": {},
   "source": [
    "### - How many different ways can you combine the letters from \"abc\" with the numbers 1, 2, and 3?"
   ]
  },
  {
   "cell_type": "code",
   "execution_count": 7,
   "id": "b60ae6dc",
   "metadata": {},
   "outputs": [],
   "source": [
    "#normally do imports at top of a project, but treating each of these questions as a separate 'project'\n",
    "from itertools import permutations as perm, product as prod"
   ]
  },
  {
   "cell_type": "code",
   "execution_count": 11,
   "id": "4b45236c",
   "metadata": {},
   "outputs": [
    {
     "name": "stdout",
     "output_type": "stream",
     "text": [
      "720\n",
      "9\n"
     ]
    }
   ],
   "source": [
    "characters = ['a', 'b', 'c', 1, 2, 3]\n",
    "\n",
    "#for i in list(perm(characters)):\n",
    "    #print(i)\n",
    "    \n",
    "print(len(list(perm(characters))))\n",
    "\n",
    "#Stephen also pointed out that this could be listed as the 'product' of these two lists:\n",
    "\n",
    "print(len(list(prod('abc', '123'))))"
   ]
  },
  {
   "cell_type": "markdown",
   "id": "d0f60009",
   "metadata": {},
   "source": [
    "### -How many different combinations are there of 2 letters from \"abcd\"?"
   ]
  },
  {
   "cell_type": "code",
   "execution_count": null,
   "id": "fc7652af",
   "metadata": {},
   "outputs": [],
   "source": [
    "from itertools import combinations as combo"
   ]
  },
  {
   "cell_type": "code",
   "execution_count": null,
   "id": "5c4874f4",
   "metadata": {},
   "outputs": [],
   "source": [
    "characters = 'abcd'\n",
    "\n",
    "print(len(list(combo(characters, 2))))"
   ]
  },
  {
   "cell_type": "code",
   "execution_count": null,
   "id": "db65bdac",
   "metadata": {},
   "outputs": [],
   "source": [
    "### - How many different permutations are there of 2 letters from \"abcd\"?"
   ]
  },
  {
   "cell_type": "code",
   "execution_count": null,
   "id": "7a8bd69e",
   "metadata": {},
   "outputs": [],
   "source": [
    "characters = 'abcd'\n",
    "\n",
    "print(len(list(perm(characters, 2))))"
   ]
  },
  {
   "cell_type": "markdown",
   "id": "4dff8ff4",
   "metadata": {},
   "source": [
    "## Using the profiles.json file, complete the following:"
   ]
  },
  {
   "cell_type": "code",
   "execution_count": 5,
   "id": "5a3d9af8",
   "metadata": {},
   "outputs": [],
   "source": [
    "import json\n",
    "\n",
    "#Stephen showed me this as an alternative way to load the file under a variable name, so I'll need to come back and look more into how this works.\n",
    "with open('profiles.json') as f:\n",
    "    profiles = json.load(f)"
   ]
  },
  {
   "cell_type": "markdown",
   "id": "932cc5ad",
   "metadata": {},
   "source": [
    "### - Total number of users"
   ]
  },
  {
   "cell_type": "code",
   "execution_count": 6,
   "id": "96a06a92",
   "metadata": {},
   "outputs": [
    {
     "name": "stdout",
     "output_type": "stream",
     "text": [
      "19\n"
     ]
    }
   ],
   "source": [
    "#having loaded this file under the 'profiles' name makes this much easier\n",
    "print(len(profiles))"
   ]
  },
  {
   "cell_type": "code",
   "execution_count": null,
   "id": "c0d0055d",
   "metadata": {},
   "outputs": [],
   "source": []
  }
 ],
 "metadata": {
  "kernelspec": {
   "display_name": "Python 3 (ipykernel)",
   "language": "python",
   "name": "python3"
  },
  "language_info": {
   "codemirror_mode": {
    "name": "ipython",
    "version": 3
   },
   "file_extension": ".py",
   "mimetype": "text/x-python",
   "name": "python",
   "nbconvert_exporter": "python",
   "pygments_lexer": "ipython3",
   "version": "3.9.7"
  }
 },
 "nbformat": 4,
 "nbformat_minor": 5
}
