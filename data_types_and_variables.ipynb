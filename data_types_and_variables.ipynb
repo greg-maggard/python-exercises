{
 "cells": [
  {
   "cell_type": "markdown",
   "id": "0f121791",
   "metadata": {},
   "source": [
    "1. You have rented some movies for your kids: The little mermaid (for 3 days), Brother Bear (for 5 days, they love it), and Hercules (1 day, you don't know yet if they're going to like it). If price for a movie per day is 3 dollars, how much will you have to pay?"
   ]
  },
  {
   "cell_type": "code",
   "execution_count": 2,
   "id": "e37c9abe",
   "metadata": {},
   "outputs": [
    {
     "data": {
      "text/plain": [
       "27"
      ]
     },
     "execution_count": 2,
     "metadata": {},
     "output_type": "execute_result"
    }
   ],
   "source": [
    "rental_lengths = [3, 5, 1]\n",
    "\n",
    "rental_cost = 0 \n",
    "\n",
    "for i in rental_lengths:\n",
    "    rental_cost += (3 * i)\n",
    "\n",
    "rental_cost"
   ]
  },
  {
   "cell_type": "markdown",
   "id": "840f2f9b",
   "metadata": {},
   "source": [
    "2. Suppose you're working as a contractor for 3 companies: Google, Amazon and Facebook, they pay you a different rate per hour. Google pays 400 dollars per hour, Amazon 380, and Facebook 350. How much will you receive in payment for this week? You worked 10 hours for Facebook, 6 hours for Google and 4 hours for Amazon."
   ]
  },
  {
   "cell_type": "code",
   "execution_count": 6,
   "id": "fd26bdf9",
   "metadata": {},
   "outputs": [
    {
     "data": {
      "text/plain": [
       "7420"
      ]
     },
     "execution_count": 6,
     "metadata": {},
     "output_type": "execute_result"
    }
   ],
   "source": [
    "def timesheet_calculation(google, amazon, facebook):\n",
    "    total_pay = (google * 400) + (amazon * 380) + (facebook * 350)\n",
    "    return total_pay\n",
    "    \n",
    "timesheet_calculation(6, 4, 10)"
   ]
  },
  {
   "cell_type": "markdown",
   "id": "bfd67958",
   "metadata": {},
   "source": [
    "3. A student can be enrolled to a class only if the class is not full and the class schedule does not conflict with her current schedule."
   ]
  },
  {
   "cell_type": "code",
   "execution_count": 15,
   "id": "71613b99",
   "metadata": {},
   "outputs": [
    {
     "name": "stdout",
     "output_type": "stream",
     "text": [
      "True\n"
     ]
    }
   ],
   "source": [
    "class_not_full = True\n",
    "no_schedule_conflict = True\n",
    "\n",
    "enrollment_possible = class_not_full and no_schedule_conflict\n",
    "\n",
    "print(enrollment_possible)"
   ]
  },
  {
   "cell_type": "markdown",
   "id": "86fe39b3",
   "metadata": {},
   "source": [
    "4. A product offer can be applied only if people buys more than 2 items, and the offer has not expired. Premium members do not need to buy a specific amount of products."
   ]
  },
  {
   "cell_type": "code",
   "execution_count": 19,
   "id": "f6d3e85a",
   "metadata": {},
   "outputs": [
    {
     "name": "stdout",
     "output_type": "stream",
     "text": [
      "True\n"
     ]
    }
   ],
   "source": [
    "premium_member = False\n",
    "amount_purchased = 3\n",
    "offer_not_expired = True\n",
    "\n",
    "offer_applied = premium_member or ((amount_purchased > 2) and offer_not_expired)\n",
    "\n",
    "print(offer_applied)"
   ]
  },
  {
   "cell_type": "markdown",
   "id": "cef1fd5d",
   "metadata": {},
   "source": [
    "Continue working in your data_types_and_variables.py file. Use the following code to follow the instructions below:\n",
    "\n",
    "username = 'codeup'\n",
    "password = 'notastrongpassword'"
   ]
  },
  {
   "cell_type": "code",
   "execution_count": 27,
   "id": "83008983",
   "metadata": {},
   "outputs": [
    {
     "name": "stdout",
     "output_type": "stream",
     "text": [
      "True\n",
      "True\n",
      "True\n",
      "True\n"
     ]
    }
   ],
   "source": [
    "username = 'codeup'\n",
    "password = 'notastrongpassword'\n",
    "\n",
    "pw_at_least_5 = (len(password) >= 5)\n",
    "un_at_most_20 = (len(username) <= 20)\n",
    "do_not_match = (password != username)\n",
    "no_white_space = ((password[0] != ' ' and password[-1] != ' ') and (username[0] != ' ' and username[-1] != ' '))\n",
    "\n",
    "print(pw_at_least_5)\n",
    "print(un_at_most_20)\n",
    "print(do_not_match)\n",
    "print(no_white_space)"
   ]
  }
 ],
 "metadata": {
  "kernelspec": {
   "display_name": "Python 3 (ipykernel)",
   "language": "python",
   "name": "python3"
  },
  "language_info": {
   "codemirror_mode": {
    "name": "ipython",
    "version": 3
   },
   "file_extension": ".py",
   "mimetype": "text/x-python",
   "name": "python",
   "nbconvert_exporter": "python",
   "pygments_lexer": "ipython3",
   "version": "3.9.7"
  }
 },
 "nbformat": 4,
 "nbformat_minor": 5
}
