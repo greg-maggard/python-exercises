{
 "cells": [
  {
   "cell_type": "markdown",
   "id": "f8cb74a4",
   "metadata": {},
   "source": [
    "# Numpy\n",
    "\n",
    "Numpy is a library for representing and working with large and multi-dimensional arrays. Most other libraries in the data-science ecosystem depend on numpy, making it one of the fundamental data science libraries.\n",
    "\n",
    "Numpy provides a number of useful tools for scientific programming, and in this lesson, we'll take a look at some of the most common.\n",
    "\n",
    "Convention is to import the `numpy` module as `np`."
   ]
  },
  {
   "cell_type": "code",
   "execution_count": 6,
   "id": "3e647dbb",
   "metadata": {},
   "outputs": [],
   "source": [
    "import numpy as np"
   ]
  },
  {
   "cell_type": "markdown",
   "id": "e02ecc5c",
   "metadata": {},
   "source": [
    "## Indexing\n",
    "\n",
    "Numpy provides an array type that goes above and beyond what Python's built-in lists can do.\n",
    "\n",
    "We can create a numpy array by passing a list to the `np.array` function:"
   ]
  },
  {
   "cell_type": "code",
   "execution_count": 7,
   "id": "1c1258da",
   "metadata": {},
   "outputs": [],
   "source": [
    "a = np.array([1, 2, 3])"
   ]
  },
  {
   "cell_type": "code",
   "execution_count": 8,
   "id": "7f97f3a0",
   "metadata": {},
   "outputs": [
    {
     "data": {
      "text/plain": [
       "array([1, 2, 3])"
      ]
     },
     "execution_count": 8,
     "metadata": {},
     "output_type": "execute_result"
    }
   ],
   "source": [
    "a"
   ]
  },
  {
   "cell_type": "code",
   "execution_count": 9,
   "id": "65b0d27e",
   "metadata": {},
   "outputs": [
    {
     "name": "stdout",
     "output_type": "stream",
     "text": [
      "[1 2 3]\n"
     ]
    }
   ],
   "source": [
    "print(a)"
   ]
  },
  {
   "cell_type": "markdown",
   "id": "ff822852",
   "metadata": {},
   "source": [
    "We can create a multi-dimensional array by passing a list of lists to the `array` function"
   ]
  },
  {
   "cell_type": "code",
   "execution_count": 10,
   "id": "d70deef8",
   "metadata": {},
   "outputs": [],
   "source": [
    "matrix = np.array([[1, 2, 3], [4, 5, 6], [7, 8, 9]])"
   ]
  },
  {
   "cell_type": "code",
   "execution_count": 11,
   "id": "c080b1d0",
   "metadata": {},
   "outputs": [
    {
     "data": {
      "text/plain": [
       "array([[1, 2, 3],\n",
       "       [4, 5, 6],\n",
       "       [7, 8, 9]])"
      ]
     },
     "execution_count": 11,
     "metadata": {},
     "output_type": "execute_result"
    }
   ],
   "source": [
    "matrix"
   ]
  },
  {
   "cell_type": "code",
   "execution_count": 12,
   "id": "3ddc6846",
   "metadata": {},
   "outputs": [
    {
     "name": "stdout",
     "output_type": "stream",
     "text": [
      "[[1 2 3]\n",
      " [4 5 6]\n",
      " [7 8 9]]\n"
     ]
    }
   ],
   "source": [
    "print(matrix)"
   ]
  },
  {
   "cell_type": "markdown",
   "id": "30e9273e",
   "metadata": {},
   "source": [
    "Referencing elements in numpy arrays at it's most basic is the same as referencing elements in Python lists."
   ]
  },
  {
   "cell_type": "code",
   "execution_count": 13,
   "id": "b9a923ef",
   "metadata": {},
   "outputs": [
    {
     "data": {
      "text/plain": [
       "1"
      ]
     },
     "execution_count": 13,
     "metadata": {},
     "output_type": "execute_result"
    }
   ],
   "source": [
    "a[0]"
   ]
  },
  {
   "cell_type": "code",
   "execution_count": 14,
   "id": "1452ca06",
   "metadata": {},
   "outputs": [
    {
     "name": "stdout",
     "output_type": "stream",
     "text": [
      "a    == [1 2 3]\n",
      "a[0] == 1\n",
      "a[1] == 2\n",
      "a[2] == 3\n"
     ]
    }
   ],
   "source": [
    "print('a    == {}'.format(a))\n",
    "print('a[0] == {}'.format(a[0]))\n",
    "print('a[1] == {}'.format(a[1]))\n",
    "print('a[2] == {}'.format(a[2]))"
   ]
  },
  {
   "cell_type": "code",
   "execution_count": 15,
   "id": "c92be451",
   "metadata": {},
   "outputs": [
    {
     "name": "stdout",
     "output_type": "stream",
     "text": [
      "matrix\n",
      "[[1 2 3]\n",
      " [4 5 6]\n",
      " [7 8 9]]\n",
      "\n",
      "\n",
      "matrix[0] == [1 2 3]\n",
      "matrix[1] == [4 5 6]\n",
      "matrix[2] == [7 8 9]\n"
     ]
    }
   ],
   "source": [
    "print('matrix')\n",
    "print(matrix)\n",
    "print('\\n')\n",
    "print('matrix[0] == {}'.format(matrix[0]))\n",
    "print('matrix[1] == {}'.format(matrix[1]))\n",
    "print('matrix[2] == {}'.format(matrix[2]))"
   ]
  },
  {
   "cell_type": "markdown",
   "id": "67fd5323",
   "metadata": {},
   "source": [
    "Multidimensional numpy arrays are easier to index into than nested lists. To obtain the element at the second column in the second row, we would write:"
   ]
  },
  {
   "cell_type": "code",
   "execution_count": 16,
   "id": "329f1356",
   "metadata": {},
   "outputs": [
    {
     "data": {
      "text/plain": [
       "5"
      ]
     },
     "execution_count": 16,
     "metadata": {},
     "output_type": "execute_result"
    }
   ],
   "source": [
    "matrix[1,1]"
   ]
  },
  {
   "cell_type": "markdown",
   "id": "03ca6144",
   "metadata": {},
   "source": [
    "To get the first 2 elements of the last 2 rows:"
   ]
  },
  {
   "cell_type": "code",
   "execution_count": 17,
   "id": "32b1d848",
   "metadata": {},
   "outputs": [
    {
     "data": {
      "text/plain": [
       "array([[4, 5],\n",
       "       [7, 8]])"
      ]
     },
     "execution_count": 17,
     "metadata": {},
     "output_type": "execute_result"
    }
   ],
   "source": [
    "matrix[1:, :2] \n",
    "# 1: Give me the rows starting from index position 1 onward\n",
    "# :2 Give me the elements of the rows up to *but not including* index position 2"
   ]
  },
  {
   "cell_type": "markdown",
   "id": "15b32ac5",
   "metadata": {},
   "source": [
    "Arrays can also be indexed with a boolean sequence used to indicate which values should be included in the resulting array."
   ]
  },
  {
   "cell_type": "code",
   "execution_count": 18,
   "id": "df20d13f",
   "metadata": {},
   "outputs": [
    {
     "data": {
      "text/plain": [
       "array([1, 2, 3])"
      ]
     },
     "execution_count": 18,
     "metadata": {},
     "output_type": "execute_result"
    }
   ],
   "source": [
    "a"
   ]
  },
  {
   "cell_type": "code",
   "execution_count": null,
   "id": "0a229f97",
   "metadata": {},
   "outputs": [],
   "source": [
    "a[[True, False, True]]"
   ]
  },
  {
   "cell_type": "code",
   "execution_count": 19,
   "id": "d23823a6",
   "metadata": {},
   "outputs": [
    {
     "data": {
      "text/plain": [
       "array([1, 3])"
      ]
     },
     "execution_count": 19,
     "metadata": {},
     "output_type": "execute_result"
    }
   ],
   "source": [
    "#You can save these boolean values to a 'boolean mass' which can then be called for use later, which can be very powerful.\n",
    "\n",
    "should_include_elements_a = [True, False, True]\n",
    "a[should_include_elements_a]"
   ]
  },
  {
   "cell_type": "markdown",
   "id": "98aa57a8",
   "metadata": {},
   "source": [
    "## Vectorized Operations\n",
    "\n",
    "Another useful feature of numpy arrays is vectorized operations.\n",
    "\n",
    "If we wanted to add 1 to every element in a list, without numpy, we can't simply add 1 to the list, as that will result in a `TypeError`."
   ]
  },
  {
   "cell_type": "code",
   "execution_count": 1,
   "id": "3623ae5f",
   "metadata": {},
   "outputs": [
    {
     "name": "stdout",
     "output_type": "stream",
     "text": [
      "An Error Occured!\n",
      "TypeError: can only concatenate list (not \"int\") to list\n"
     ]
    }
   ],
   "source": [
    "#When looking at the below, keep in mind that this is a *list* not a numpy array.\n",
    "original_array = [1, 2, 3, 4, 5]\n",
    "try:\n",
    "    original_array + 1\n",
    "except TypeError as e:\n",
    "    print('An Error Occured!')\n",
    "    print(f'TypeError: {e}')"
   ]
  },
  {
   "cell_type": "code",
   "execution_count": 2,
   "id": "b2c6f344",
   "metadata": {},
   "outputs": [
    {
     "data": {
      "text/plain": [
       "[1, 2, 3, 4, 5, 1]"
      ]
     },
     "execution_count": 2,
     "metadata": {},
     "output_type": "execute_result"
    }
   ],
   "source": [
    "# What does \"can only concatenate list (not \"int\") to list\" mean?\n",
    "[1, 2, 3, 4, 5] + [1]"
   ]
  },
  {
   "cell_type": "markdown",
   "id": "1ec3274d",
   "metadata": {},
   "source": [
    "We could write a `for` loop or a list comprehension:"
   ]
  },
  {
   "cell_type": "code",
   "execution_count": 3,
   "id": "1bdcace5",
   "metadata": {},
   "outputs": [
    {
     "name": "stdout",
     "output_type": "stream",
     "text": [
      "[2, 3, 4, 5, 6]\n"
     ]
    }
   ],
   "source": [
    "#Here, again, the original array has been converted to a list in order to demonstrate how this could be done with a 'for' loop:\n",
    "original_array = [1, 2, 3, 4, 5]\n",
    "array_with_one_added = []\n",
    "for n in original_array:\n",
    "    array_with_one_added.append(n+1)\n",
    "print(array_with_one_added)"
   ]
  },
  {
   "cell_type": "code",
   "execution_count": 4,
   "id": "52c05871",
   "metadata": {},
   "outputs": [
    {
     "name": "stdout",
     "output_type": "stream",
     "text": [
      "[2, 3, 4, 5, 6]\n"
     ]
    }
   ],
   "source": [
    "#The above can similarly be done with a list comprehension, but the underlying process is the same and therefore still more intensive than a numpy array operation. \n",
    "original_array = [1, 2, 3, 4, 5]\n",
    "array_with_one_added = [n + 1 for n in original_array]\n",
    "print(array_with_one_added)"
   ]
  },
  {
   "cell_type": "markdown",
   "id": "ae9986c5",
   "metadata": {},
   "source": [
    "Vectorizing operations means that operations are automatically applied to every element in a vector, which in our case will be a numpy array. So if we are working with a numpy array, we can simply add 1:"
   ]
  },
  {
   "cell_type": "code",
   "execution_count": 21,
   "id": "fe1398a0",
   "metadata": {},
   "outputs": [
    {
     "data": {
      "text/plain": [
       "array([2, 3, 4, 5, 6])"
      ]
     },
     "execution_count": 21,
     "metadata": {},
     "output_type": "execute_result"
    }
   ],
   "source": [
    "#if we convert this array into a numpy array, then we can make use of the library's pre-built tools and complete this operation with similar syntax that wouldn't have worked in vanilla Python\n",
    "numpy_array = np.array([1, 2, 3, 4, 5])\n",
    "numpy_array + 1"
   ]
  },
  {
   "cell_type": "code",
   "execution_count": 23,
   "id": "7398c7a4",
   "metadata": {},
   "outputs": [
    {
     "name": "stdout",
     "output_type": "stream",
     "text": [
      "[3 4 5 6 7]\n"
     ]
    }
   ],
   "source": [
    "print(numpy_array + 2)"
   ]
  },
  {
   "cell_type": "markdown",
   "id": "8fd85fca",
   "metadata": {},
   "source": [
    "This works the same way for the other basic arithmetic operators as well:"
   ]
  },
  {
   "cell_type": "code",
   "execution_count": 24,
   "id": "d7d2746d",
   "metadata": {},
   "outputs": [
    {
     "name": "stdout",
     "output_type": "stream",
     "text": [
      "my_array      == [-3  0  3 16]\n",
      "my_array - 5  == [-8 -5 -2 11]\n",
      "my_array * 4  == [-12   0  12  64]\n",
      "my_array / 2  == [-1.5  0.   1.5  8. ]\n",
      "my_array ** 2 == [  9   0   9 256]\n",
      "my_array % 2  == [1 0 1 0]\n"
     ]
    }
   ],
   "source": [
    "my_array = np.array([-3, 0, 3, 16])\n",
    "\n",
    "print(f'my_array      == {my_array}')\n",
    "print(f'my_array - 5  == {my_array - 5}')\n",
    "print(f'my_array * 4  == {my_array * 4}')\n",
    "print(f'my_array / 2  == {my_array / 2}')\n",
    "print(f'my_array ** 2 == {my_array ** 2}')\n",
    "print(f'my_array % 2  == {my_array % 2}')"
   ]
  },
  {
   "cell_type": "markdown",
   "id": "a8030b56",
   "metadata": {},
   "source": [
    "Not only are the arithmatic operators vectorized, but the same applies to the comparison operators."
   ]
  },
  {
   "cell_type": "code",
   "execution_count": 25,
   "id": "55bfa260",
   "metadata": {},
   "outputs": [
    {
     "name": "stdout",
     "output_type": "stream",
     "text": [
      "my_array       == [-3  0  3 16]\n",
      "my_array == -3 == [ True False False False]\n",
      "my_array >= 0  == [False  True  True  True]\n",
      "my_array < 10  == [ True  True  True False]\n"
     ]
    }
   ],
   "source": [
    "#I need to come back through here and look at these format strings.\n",
    "my_array = np.array([-3, 0, 3, 16])\n",
    "\n",
    "print(f'my_array       == {my_array}')\n",
    "print(f'my_array == -3 == {my_array == -3}')\n",
    "print(f'my_array >= 0  == {my_array >= 0}')\n",
    "print(f'my_array < 10  == {my_array < 10}')"
   ]
  },
  {
   "cell_type": "markdown",
   "id": "0dddc282",
   "metadata": {},
   "source": [
    "If vectorizing a comparison operator produces a boolean array..."
   ]
  },
  {
   "cell_type": "code",
   "execution_count": 26,
   "id": "7a8e2880",
   "metadata": {},
   "outputs": [
    {
     "name": "stdout",
     "output_type": "stream",
     "text": [
      "[False False  True  True]\n"
     ]
    }
   ],
   "source": [
    "print(my_array > 0)"
   ]
  },
  {
   "cell_type": "markdown",
   "id": "e8cb1260",
   "metadata": {},
   "source": [
    "And if we can give an array some booleans to select the values we want to return..."
   ]
  },
  {
   "cell_type": "code",
   "execution_count": 27,
   "id": "43ef7b96",
   "metadata": {},
   "outputs": [
    {
     "data": {
      "text/plain": [
       "array([ 3, 16])"
      ]
     },
     "execution_count": 27,
     "metadata": {},
     "output_type": "execute_result"
    }
   ],
   "source": [
    "my_array[[False, False, True, True]]"
   ]
  },
  {
   "cell_type": "markdown",
   "id": "885b5639",
   "metadata": {},
   "source": [
    "Then we can \"give\" an array a condition to select our values for us!"
   ]
  },
  {
   "cell_type": "code",
   "execution_count": 31,
   "id": "a2e7adc4",
   "metadata": {},
   "outputs": [
    {
     "name": "stdout",
     "output_type": "stream",
     "text": [
      "[-3  0  3 16]\n"
     ]
    },
    {
     "data": {
      "text/plain": [
       "array([ 3, 16])"
      ]
     },
     "execution_count": 31,
     "metadata": {},
     "output_type": "execute_result"
    }
   ],
   "source": [
    "# Give me all the positive numbers in my_array:\n",
    "my_array[my_array > 0]"
   ]
  },
  {
   "cell_type": "markdown",
   "id": "f0227280",
   "metadata": {},
   "source": [
    "## In-Depth Example\n",
    "As another example, we could obtain all the even numbers like this:"
   ]
  },
  {
   "cell_type": "code",
   "execution_count": 32,
   "id": "eae7160c",
   "metadata": {},
   "outputs": [
    {
     "name": "stdout",
     "output_type": "stream",
     "text": [
      "[-3  0  3 16]\n"
     ]
    },
    {
     "data": {
      "text/plain": [
       "array([ 0, 16])"
      ]
     },
     "execution_count": 32,
     "metadata": {},
     "output_type": "execute_result"
    }
   ],
   "source": [
    "print(my_array)\n",
    "my_array[my_array % 2 == 0]"
   ]
  },
  {
   "cell_type": "markdown",
   "id": "cce78ae5",
   "metadata": {},
   "source": [
    "To better understand how this is all working let's go through this recent example in a little more detail.\n",
    "\n",
    "The first expression that gets evaluated is this:"
   ]
  },
  {
   "cell_type": "code",
   "execution_count": 30,
   "id": "c0ede1fa",
   "metadata": {},
   "outputs": [
    {
     "data": {
      "text/plain": [
       "array([1, 0, 1, 0])"
      ]
     },
     "execution_count": 30,
     "metadata": {},
     "output_type": "execute_result"
    }
   ],
   "source": [
    "my_array % 2"
   ]
  },
  {
   "cell_type": "markdown",
   "id": "1fb75fa8",
   "metadata": {},
   "source": [
    "Which results in an array of `1`s and `0`s. Then the array of `1`s and `0`s is compared to `0` with the `==` operator, producing an array of `True` or `False` values."
   ]
  },
  {
   "cell_type": "code",
   "execution_count": 34,
   "id": "5dee1f95",
   "metadata": {},
   "outputs": [
    {
     "name": "stdout",
     "output_type": "stream",
     "text": [
      "My Array:              [-3  0  3 16]\n",
      "My Array % 2 (Result): [1 0 1 0]\n"
     ]
    }
   ],
   "source": [
    "# Each element of the array % 2\n",
    "result = my_array % 2\n",
    "print(f\"My Array:              {my_array}\")\n",
    "print(f\"My Array % 2 (Result): {result}\")"
   ]
  },
  {
   "cell_type": "code",
   "execution_count": 35,
   "id": "bdd777dc",
   "metadata": {},
   "outputs": [
    {
     "name": "stdout",
     "output_type": "stream",
     "text": [
      "My Array:                   [-3  0  3 16]\n",
      "My Array % 2 (Result):      [1 0 1 0]\n",
      "result == 0:                [False  True False  True]\n"
     ]
    }
   ],
   "source": [
    "# Does each element % 2 == 0?\n",
    "print(f\"My Array:                   {my_array}\")\n",
    "print(f\"My Array % 2 (Result):      {result}\")\n",
    "print(f\"result == 0:                {result == 0}\")"
   ]
  },
  {
   "cell_type": "markdown",
   "id": "e19313c5",
   "metadata": {},
   "source": [
    "Lastly, we use this array of boolean values to index into the original array, which gives us only the values that are evenly divisible by 2."
   ]
  },
  {
   "cell_type": "code",
   "execution_count": 36,
   "id": "f19c88a2",
   "metadata": {},
   "outputs": [
    {
     "data": {
      "text/plain": [
       "array([ 0, 16])"
      ]
     },
     "execution_count": 36,
     "metadata": {},
     "output_type": "execute_result"
    }
   ],
   "source": [
    "step_1 = my_array % 2\n",
    "step_2 = step_1 == 0\n",
    "step_3 = my_array[step_2]\n",
    "\n",
    "step_3"
   ]
  },
  {
   "cell_type": "markdown",
   "id": "2b6c3c4c",
   "metadata": {},
   "source": [
    "Put another way, here is how the expression is evaluated:"
   ]
  },
  {
   "cell_type": "code",
   "execution_count": 37,
   "id": "b72c1780",
   "metadata": {},
   "outputs": [
    {
     "name": "stdout",
     "output_type": "stream",
     "text": [
      "1. my_array[my_array % 2 == 0]\n",
      "    - the original expression\n",
      "2. my_array[[-3  0  3 16] % 2 == 0]\n",
      "    - variable substitution\n",
      "3. my_array[[1 0 1 0] == 0]\n",
      "    - result of performing the vectorized modulus 2\n",
      "4. my_array[[False  True False  True]]\n",
      "    - result of comparing to 0\n",
      "5. [-3  0  3 16][[False  True False  True]]\n",
      "    - variable substitution\n",
      "6. [ 0 16]\n",
      "    - our final result\n"
     ]
    }
   ],
   "source": [
    "print('1. my_array[my_array % 2 == 0]')\n",
    "print('    - the original expression')\n",
    "print('2. my_array[{} % 2 == 0]'.format(my_array))\n",
    "print('    - variable substitution')\n",
    "print('3. my_array[{} == 0]'.format(my_array % 2))\n",
    "print('    - result of performing the vectorized modulus 2')\n",
    "print('4. my_array[{}]'.format(my_array % 2 == 0))\n",
    "print('    - result of comparing to 0')\n",
    "print('5. {}[{}]'.format(my_array, my_array % 2 == 0))\n",
    "print('    - variable substitution')\n",
    "print('6. {}'.format(my_array[my_array % 2 == 0]))\n",
    "print('    - our final result')"
   ]
  },
  {
   "cell_type": "code",
   "execution_count": null,
   "id": "3e93f49d",
   "metadata": {},
   "outputs": [],
   "source": []
  },
  {
   "cell_type": "raw",
   "id": "365e9aff",
   "metadata": {},
   "source": [
    "my_array"
   ]
  },
  {
   "cell_type": "code",
   "execution_count": 38,
   "id": "14beda87",
   "metadata": {},
   "outputs": [
    {
     "data": {
      "text/plain": [
       "array([0, 3])"
      ]
     },
     "execution_count": 38,
     "metadata": {},
     "output_type": "execute_result"
    }
   ],
   "source": [
    "# I want to find element >= 0 AND element < 0\n",
    "my_array[(my_array >= 0) & (my_array < 10)]"
   ]
  },
  {
   "cell_type": "code",
   "execution_count": 40,
   "id": "06911cb3",
   "metadata": {},
   "outputs": [
    {
     "data": {
      "text/plain": [
       "array([-3, 16])"
      ]
     },
     "execution_count": 40,
     "metadata": {},
     "output_type": "execute_result"
    }
   ],
   "source": [
    "# I want to find element >= 0 OR element < 0\n",
    "my_array[(my_array < 0) | (my_array > 3)]"
   ]
  },
  {
   "cell_type": "code",
   "execution_count": 41,
   "id": "6f013501",
   "metadata": {},
   "outputs": [
    {
     "data": {
      "text/plain": [
       "4"
      ]
     },
     "execution_count": 41,
     "metadata": {},
     "output_type": "execute_result"
    }
   ],
   "source": [
    "len(my_array)"
   ]
  },
  {
   "cell_type": "markdown",
   "id": "d2fe7df7",
   "metadata": {},
   "source": [
    "## Array Creation\n",
    "\n",
    "Numpy provides several methods for creating arrays, we'll take a look at several of them.\n",
    "\n",
    "### `np.random.randn`\n",
    "\n",
    "`np.random.randn` can be used to create an array of specified length of random numbers drawn from the standard normal distribution.\n",
    "\n",
    "> **Standard Normal Distribution**: Values range from -∞ to ∞ with equal distribution in both positive and negative direction, the mean is equal to 0, and the standard deviation is 1. The values represent z-scores, which are the number of standard deviations that point is from the mean."
   ]
  },
  {
   "cell_type": "code",
   "execution_count": 42,
   "id": "20b506c9",
   "metadata": {},
   "outputs": [
    {
     "data": {
      "text/plain": [
       "array([-0.3776515 ,  0.38889961,  0.18490092, -0.76494464, -0.36875983,\n",
       "       -1.59575827,  0.7919503 , -1.89781239, -0.20037438,  0.2427981 ])"
      ]
     },
     "execution_count": 42,
     "metadata": {},
     "output_type": "execute_result"
    }
   ],
   "source": [
    "np.random.randn(10)"
   ]
  },
  {
   "cell_type": "markdown",
   "id": "19a5dd3b",
   "metadata": {},
   "source": [
    "We can also pass a second argument to this function to define the shape of a two dimensional array."
   ]
  },
  {
   "cell_type": "code",
   "execution_count": 43,
   "id": "8959f9b5",
   "metadata": {},
   "outputs": [
    {
     "data": {
      "text/plain": [
       "array([[-2.76704507,  1.05233469, -1.28346285,  0.21064447],\n",
       "       [ 1.45700002,  0.44617194, -1.3914791 ,  0.5485002 ],\n",
       "       [-0.6136086 , -0.37343697, -0.83707477,  0.59044624]])"
      ]
     },
     "execution_count": 43,
     "metadata": {},
     "output_type": "execute_result"
    }
   ],
   "source": [
    "np.random.randn(3, 4) # rows, columns"
   ]
  },
  {
   "cell_type": "markdown",
   "id": "c25d8611",
   "metadata": {},
   "source": [
    "If we wish to obtain original values from the z-scores of a normal distribution, we'll need to apply some arithmetic. \n",
    "\n",
    "To convert, we'll need to multiply by the standard deviation (*σ*) and add the mean (*μ*)."
   ]
  },
  {
   "cell_type": "code",
   "execution_count": 44,
   "id": "f1f2be10",
   "metadata": {},
   "outputs": [
    {
     "data": {
      "text/plain": [
       "array([ 1.21517075, -1.68987268,  0.78251622, -1.19755749, -0.40289447,\n",
       "       -0.47437349, -0.18219004,  0.78257776,  0.62503069,  0.06096171,\n",
       "       -0.62407909,  0.01908504, -1.30310535, -1.53060818, -0.16580024,\n",
       "        1.66956665,  0.38528191,  0.77569736,  0.11827943, -1.06448968])"
      ]
     },
     "execution_count": 44,
     "metadata": {},
     "output_type": "execute_result"
    }
   ],
   "source": [
    "z_scores_iq = np.random.randn(20)\n",
    "z_scores_iq"
   ]
  },
  {
   "cell_type": "code",
   "execution_count": 46,
   "id": "67e50f63",
   "metadata": {},
   "outputs": [
    {
     "data": {
      "text/plain": [
       "array([136.45512259,  49.30381961, 123.47548671,  64.07327522,\n",
       "        87.91316582,  85.76879517,  94.53429868, 123.4773328 ,\n",
       "       118.7509206 , 101.82885125,  81.27762734, 100.57255126,\n",
       "        60.90683942,  54.08175474,  95.02599276, 150.08699961,\n",
       "       111.55845731, 123.27092095, 103.54838292,  68.0653096 ])"
      ]
     },
     "execution_count": 46,
     "metadata": {},
     "output_type": "execute_result"
    }
   ],
   "source": [
    "μ = 100 # If we have a mean of 100...\n",
    "σ = 30 # ...and a standard deviation of 30...\n",
    "\n",
    "#σ * np.random.randn(20) + μ # We can derive the unscaled values\n",
    "\n",
    "#This is the same thing as the line above, because you can assign these array creation calls to a variable\n",
    "σ * z_scores_iq + µ"
   ]
  },
  {
   "cell_type": "markdown",
   "id": "8c1e23f8",
   "metadata": {},
   "source": [
    "### `np.zeros`, `np.ones`, `np.full`\n",
    "\n",
    "The `zeros` function provides the ability to create an array of a specified size full of `0`s: "
   ]
  },
  {
   "cell_type": "code",
   "execution_count": 47,
   "id": "55bd888e",
   "metadata": {},
   "outputs": [
    {
     "data": {
      "text/plain": [
       "array([0., 0., 0., 0., 0., 0., 0., 0., 0., 0.])"
      ]
     },
     "execution_count": 47,
     "metadata": {},
     "output_type": "execute_result"
    }
   ],
   "source": [
    "np.zeros(10)"
   ]
  },
  {
   "cell_type": "markdown",
   "id": "53a7b42f",
   "metadata": {},
   "source": [
    "The `ones` function does the same thing, but full of `1`s instead:"
   ]
  },
  {
   "cell_type": "code",
   "execution_count": 48,
   "id": "e902613e",
   "metadata": {},
   "outputs": [
    {
     "data": {
      "text/plain": [
       "array([1., 1., 1., 1., 1.])"
      ]
     },
     "execution_count": 48,
     "metadata": {},
     "output_type": "execute_result"
    }
   ],
   "source": [
    "np.ones(5)"
   ]
  },
  {
   "cell_type": "markdown",
   "id": "9ae36a80",
   "metadata": {},
   "source": [
    "The `full` function allows you to specific a value:"
   ]
  },
  {
   "cell_type": "code",
   "execution_count": 50,
   "id": "64551f71",
   "metadata": {},
   "outputs": [
    {
     "data": {
      "text/plain": [
       "array([17, 17, 17])"
      ]
     },
     "execution_count": 50,
     "metadata": {},
     "output_type": "execute_result"
    }
   ],
   "source": [
    "#Here, you can tell it how long you want the array to be, as well as what value you want to repeat (length, value)\n",
    "np.full(3, 17)"
   ]
  },
  {
   "cell_type": "markdown",
   "id": "10195d05",
   "metadata": {},
   "source": [
    "We can also use these methods to create multi-dimensional arrays by passing a tuple of the dimensions of the desired array, instead of a single integer value."
   ]
  },
  {
   "cell_type": "code",
   "execution_count": 51,
   "id": "06435b08",
   "metadata": {},
   "outputs": [
    {
     "data": {
      "text/plain": [
       "array([[0., 0., 0.],\n",
       "       [0., 0., 0.]])"
      ]
     },
     "execution_count": 51,
     "metadata": {},
     "output_type": "execute_result"
    }
   ],
   "source": [
    "np.zeros((2,3))"
   ]
  },
  {
   "cell_type": "code",
   "execution_count": 52,
   "id": "81112be1",
   "metadata": {},
   "outputs": [
    {
     "data": {
      "text/plain": [
       "array([[1., 1., 1., 1., 1.],\n",
       "       [1., 1., 1., 1., 1.],\n",
       "       [1., 1., 1., 1., 1.],\n",
       "       [1., 1., 1., 1., 1.],\n",
       "       [1., 1., 1., 1., 1.]])"
      ]
     },
     "execution_count": 52,
     "metadata": {},
     "output_type": "execute_result"
    }
   ],
   "source": [
    "np.ones((5,5))"
   ]
  },
  {
   "cell_type": "code",
   "execution_count": 53,
   "id": "f6bff8ce",
   "metadata": {},
   "outputs": [
    {
     "data": {
      "text/plain": [
       "array([[17, 17, 17, 17],\n",
       "       [17, 17, 17, 17],\n",
       "       [17, 17, 17, 17]])"
      ]
     },
     "execution_count": 53,
     "metadata": {},
     "output_type": "execute_result"
    }
   ],
   "source": [
    "np.full((3, 4), 17)"
   ]
  },
  {
   "cell_type": "markdown",
   "id": "fc06ff44",
   "metadata": {},
   "source": [
    "### `np.arange`\n",
    "\n",
    "Numpy's `arange` function is very similar to python's built-in `range` function. It can take a single argument and generate a range from zero up to, but not including, the passed number."
   ]
  },
  {
   "cell_type": "code",
   "execution_count": 54,
   "id": "bb9e55a7",
   "metadata": {},
   "outputs": [
    {
     "data": {
      "text/plain": [
       "array([0, 1, 2, 3, 4, 5, 6, 7, 8, 9])"
      ]
     },
     "execution_count": 54,
     "metadata": {},
     "output_type": "execute_result"
    }
   ],
   "source": [
    "np.arange(10)"
   ]
  },
  {
   "cell_type": "markdown",
   "id": "86a50e9a",
   "metadata": {},
   "source": [
    "We can also specify a starting point for the range:"
   ]
  },
  {
   "cell_type": "code",
   "execution_count": 55,
   "id": "d2cd3fa1",
   "metadata": {},
   "outputs": [
    {
     "data": {
      "text/plain": [
       "array([1, 2, 3, 4, 5, 6, 7, 8, 9])"
      ]
     },
     "execution_count": 55,
     "metadata": {},
     "output_type": "execute_result"
    }
   ],
   "source": [
    "np.arange(1, 10)"
   ]
  },
  {
   "cell_type": "markdown",
   "id": "ed44d09d",
   "metadata": {},
   "source": [
    "As well as a step:"
   ]
  },
  {
   "cell_type": "code",
   "execution_count": 56,
   "id": "4074227b",
   "metadata": {},
   "outputs": [
    {
     "data": {
      "text/plain": [
       "array([1, 3, 5, 7, 9])"
      ]
     },
     "execution_count": 56,
     "metadata": {},
     "output_type": "execute_result"
    }
   ],
   "source": [
    "np.arange(1, 10, 2)"
   ]
  },
  {
   "cell_type": "markdown",
   "id": "0d9f42a5",
   "metadata": {},
   "source": [
    "Unlike python's builtin `range`, numpy's `arange` can handle decimal numbers"
   ]
  },
  {
   "cell_type": "code",
   "execution_count": 57,
   "id": "5ea932ae",
   "metadata": {},
   "outputs": [
    {
     "data": {
      "text/plain": [
       "array([3. , 3.5, 4. , 4.5])"
      ]
     },
     "execution_count": 57,
     "metadata": {},
     "output_type": "execute_result"
    }
   ],
   "source": [
    "np.arange(3, 5, 0.5)"
   ]
  },
  {
   "cell_type": "markdown",
   "id": "da28c225",
   "metadata": {},
   "source": [
    "### `np.linspace`\n",
    "\n",
    "The `linspace` method creates a range of numbers between a minimum and a maximum, with a set number of elements."
   ]
  },
  {
   "cell_type": "code",
   "execution_count": 58,
   "id": "771310bd",
   "metadata": {},
   "outputs": [
    {
     "data": {
      "text/plain": [
       "array([ 1.,  4.,  7., 10.])"
      ]
     },
     "execution_count": 58,
     "metadata": {},
     "output_type": "execute_result"
    }
   ],
   "source": [
    "# min: 1, max: 10, length: 4\n",
    "np.linspace(1, 10, 4)"
   ]
  },
  {
   "cell_type": "code",
   "execution_count": 59,
   "id": "93b747c3",
   "metadata": {},
   "outputs": [
    {
     "data": {
      "text/plain": [
       "array([ 1. ,  2.5,  4. ,  5.5,  7. ,  8.5, 10. ])"
      ]
     },
     "execution_count": 59,
     "metadata": {},
     "output_type": "execute_result"
    }
   ],
   "source": [
    "# min: 1, max: 10, length: 7\n",
    "np.linspace(1, 10, 7)"
   ]
  },
  {
   "cell_type": "markdown",
   "id": "d65b7bbf",
   "metadata": {},
   "source": [
    "> Note: Here the maximum is **inclusive**\n",
    "## Array Methods\n",
    "\n",
    "Numpy arrays also come with built-in methods to make many mathematical operations easier.\n",
    "\n",
    "Some of the most common are:\n",
    "\n",
    "### `.min`"
   ]
  },
  {
   "cell_type": "code",
   "execution_count": null,
   "id": "1be098e1",
   "metadata": {},
   "outputs": [],
   "source": [
    "a = np.array([1, 2, 3, 4, 5])"
   ]
  },
  {
   "cell_type": "code",
   "execution_count": 60,
   "id": "0e4bf294",
   "metadata": {},
   "outputs": [
    {
     "data": {
      "text/plain": [
       "1"
      ]
     },
     "execution_count": 60,
     "metadata": {},
     "output_type": "execute_result"
    }
   ],
   "source": [
    "a.min()"
   ]
  },
  {
   "cell_type": "markdown",
   "id": "7a74307a",
   "metadata": {},
   "source": [
    "### `.max`"
   ]
  },
  {
   "cell_type": "code",
   "execution_count": 61,
   "id": "04cbc335",
   "metadata": {},
   "outputs": [
    {
     "data": {
      "text/plain": [
       "3"
      ]
     },
     "execution_count": 61,
     "metadata": {},
     "output_type": "execute_result"
    }
   ],
   "source": [
    "a.max()"
   ]
  },
  {
   "cell_type": "markdown",
   "id": "52fd680b",
   "metadata": {},
   "source": [
    "### `.mean`"
   ]
  },
  {
   "cell_type": "code",
   "execution_count": 62,
   "id": "72db0283",
   "metadata": {},
   "outputs": [
    {
     "data": {
      "text/plain": [
       "2.0"
      ]
     },
     "execution_count": 62,
     "metadata": {},
     "output_type": "execute_result"
    }
   ],
   "source": [
    "a.mean()"
   ]
  },
  {
   "cell_type": "markdown",
   "id": "744dd9aa",
   "metadata": {},
   "source": [
    "### `.sum`"
   ]
  },
  {
   "cell_type": "code",
   "execution_count": 63,
   "id": "d5e06f4e",
   "metadata": {},
   "outputs": [
    {
     "data": {
      "text/plain": [
       "6"
      ]
     },
     "execution_count": 63,
     "metadata": {},
     "output_type": "execute_result"
    }
   ],
   "source": [
    "a.sum()"
   ]
  },
  {
   "cell_type": "markdown",
   "id": "a7537d37",
   "metadata": {},
   "source": [
    "### `.std()`"
   ]
  },
  {
   "cell_type": "code",
   "execution_count": 64,
   "id": "22b3c19d",
   "metadata": {},
   "outputs": [
    {
     "data": {
      "text/plain": [
       "0.816496580927726"
      ]
     },
     "execution_count": 64,
     "metadata": {},
     "output_type": "execute_result"
    }
   ],
   "source": [
    "a.std()"
   ]
  },
  {
   "cell_type": "markdown",
   "id": "b1aa098a",
   "metadata": {},
   "source": [
    "# Exercises!\n",
    "\n",
    "In your numpy-pandas-visualization-exercises repo, create a file named `numpy_exercises.py` for this exercise.\n",
    "\n",
    "Use the following code for the questions below:"
   ]
  },
  {
   "cell_type": "code",
   "execution_count": null,
   "id": "d7b7d65d",
   "metadata": {},
   "outputs": [],
   "source": [
    "a = np.array([4, 10, 12, 23, -2, -1, 0, 0, 0, -6, 3, -7])"
   ]
  },
  {
   "cell_type": "markdown",
   "id": "05e3f4e9",
   "metadata": {},
   "source": [
    "1. How many negative numbers are there?"
   ]
  },
  {
   "cell_type": "markdown",
   "id": "acdcbfd8",
   "metadata": {},
   "source": [
    "2. How many positive numbers are there?"
   ]
  },
  {
   "cell_type": "markdown",
   "id": "3413dec3",
   "metadata": {},
   "source": [
    "3. How many even positive numbers are there?"
   ]
  },
  {
   "cell_type": "markdown",
   "id": "37281633",
   "metadata": {},
   "source": [
    "4. If you were to add 3 to each data point, how many positive numbers would there be?"
   ]
  },
  {
   "cell_type": "markdown",
   "id": "08c5f58a",
   "metadata": {},
   "source": [
    "5. If you squared each number, what would the new mean and standard deviation be?"
   ]
  },
  {
   "cell_type": "markdown",
   "id": "d46926ee",
   "metadata": {},
   "source": [
    "6. A common statistical operation on a dataset is centering. This means to adjust the data such that the mean of the data is 0. This is done by subtracting the mean from each data point. Center the data set. See [this link](https://www.theanalysisfactor.com/centering-and-standardizing-predictors/) for more on centering."
   ]
  },
  {
   "cell_type": "markdown",
   "id": "35f4e575",
   "metadata": {},
   "source": [
    "7. Calculate the z-score for each data point. "
   ]
  },
  {
   "cell_type": "markdown",
   "id": "1810b0a7",
   "metadata": {},
   "source": [
    "8. Copy the setup and exercise directions from [More Numpy Practice](https://gist.github.com/ryanorsinger/c4cf5a64ec33c014ff2e56951bc8a42d) into your `numpy_exercises.py` and add your solutions."
   ]
  },
  {
   "cell_type": "markdown",
   "id": "c1a46513",
   "metadata": {},
   "source": [
    "**Awesome Bonus** For much more practice with numpy, Go to https://github.com/rougier/numpy-100 and clone the repo down to your laptop. To clone a repository: - Copy the SSH address of the repository - cd ~/codeup-data-science - Then type `git clone git@github.com:rougier/numpy-100.git` - Now do `cd numpy-100` on your terminal. - Type `git remote remove origin`, so you won't accidentally try to push your work to Rougier's repo.\n",
    "\n",
    "Congratulations! You have cloned Rougier's 100 numpy exercises to your computer. Now you need to make a new, blank, repository on GitHub.\n",
    "\n",
    "Go to https://github.com/new to make a new repo. Name it numpy-100.\n",
    "DO NOT check any check boxes. We need a blank, empty repo.\n",
    "Finally, follow the directions to \"push an existing repository from the command line\" so that you can push up your changes to your own account.\n",
    "\n",
    "Now do work, add it, commit it, and push it!"
   ]
  },
  {
   "cell_type": "code",
   "execution_count": null,
   "id": "09415bbc",
   "metadata": {},
   "outputs": [],
   "source": []
  }
 ],
 "metadata": {
  "kernelspec": {
   "display_name": "Python 3 (ipykernel)",
   "language": "python",
   "name": "python3"
  },
  "language_info": {
   "codemirror_mode": {
    "name": "ipython",
    "version": 3
   },
   "file_extension": ".py",
   "mimetype": "text/x-python",
   "name": "python",
   "nbconvert_exporter": "python",
   "pygments_lexer": "ipython3",
   "version": "3.9.7"
  }
 },
 "nbformat": 4,
 "nbformat_minor": 5
}
